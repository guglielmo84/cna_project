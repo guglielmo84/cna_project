{
 "cells": [
  {
   "cell_type": "code",
   "execution_count": 1,
   "metadata": {},
   "outputs": [],
   "source": [
    "# The igraph library\n",
    "from igraph import *\n",
    "\n",
    "# Numpy for enhanced math array management\n",
    "import numpy as np\n",
    "\n",
    "#Usata per calcolare il logaritmo\n",
    "from math import log\n",
    "\n",
    "# statistical tools (we only use ECDF)\n",
    "from statsmodels.distributions.empirical_distribution import ECDF\n",
    "\n",
    "# Mathematical plotting\n",
    "import matplotlib.pyplot as plt\n",
    "import matplotlib.gridspec as gridspec\n",
    "\n",
    "# use to control whether to show the entire cell output or only the last_expr (default)\n",
    "from IPython.core.interactiveshell import InteractiveShell\n",
    "InteractiveShell.ast_node_interactivity = \"all\"\n",
    "\n",
    "# to generate random numbers\n",
    "from random import *\n",
    "import sys\n",
    "# to fit power law distributions\n",
    "from powerlaw import *"
   ]
  },
  {
   "cell_type": "code",
   "execution_count": 9,
   "metadata": {},
   "outputs": [
    {
     "name": "stdout",
     "output_type": "stream",
     "text": [
      "IGRAPH UN-- 10000 229693 -- \n",
      "+ attr: name (v)\n",
      "+ edges (vertex names):\n",
      "        edge  \n",
      "[0]    5--22  \n",
      "[1]    5--683 \n",
      "[2]    5--821 \n",
      "[3]    5--469 \n",
      "[4]    5--639 \n",
      "[5]    5--814 \n",
      "[6]    5--1528\n",
      "[7]    5--1640\n",
      "[8]    5--1642\n",
      "[9]    5--1643\n",
      "[10]   5--1648\n",
      "[11]   5--2548\n",
      "[12]   5--4246\n",
      "[13]   5--4503\n",
      "[14]   5--4964\n",
      "[15]   9--23  \n",
      "[16]   9--2058\n",
      "[17]   9--309 \n",
      "[18]   9--2175\n",
      "[19]   469--9 \n",
      "[20]   639--9 \n",
      "[21]   1528--9\n",
      "[22]   1640--9\n",
      "[23]   9--47  \n",
      "[24]   9--100 \n",
      "Is connected? True\n",
      "Num of connected components: 1\n",
      "Size of connected components: [10000]\n",
      "IGRAPH UN-- 10000 229693 -- \n",
      "+ attr: name (v)\n",
      "+ edges (vertex names):\n",
      "        edge  \n",
      "[0]    5--22  \n",
      "[1]    5--683 \n",
      "[2]    5--821 \n",
      "[3]    5--469 \n",
      "[4]    5--639 \n",
      "[5]    5--814 \n",
      "[6]    5--1528\n",
      "[7]    5--1640\n",
      "[8]    5--1642\n",
      "[9]    5--1643\n",
      "[10]   5--1648\n",
      "[11]   5--2548\n",
      "[12]   5--4246\n",
      "[13]   5--4503\n",
      "[14]   5--4964\n",
      "[15]   9--23  \n",
      "[16]   9--2058\n",
      "[17]   9--309 \n",
      "[18]   9--2175\n",
      "[19]   469--9 \n",
      "[20]   639--9 \n",
      "[21]   1528--9\n",
      "[22]   1640--9\n",
      "[23]   9--47  \n",
      "[24]   9--100 \n",
      "saved\n"
     ]
    }
   ],
   "source": [
    "fg = read(\"dataset/socfb-wosn-friends.cut.sb.10K.edges\", format = \"ncol\", directed = False)\n",
    "summary(fg, verbosity=1, max_rows = 25, edge_list_format = 'edgelist')\n",
    "\n",
    "visual_style = {}\n",
    "\n",
    "visual_style[\"bbox\"] = (600,600)\n",
    "visual_style[\"label\"] = []\n",
    "visual_style[\"layout\"] = fg.layout_fruchterman_reingold()\n",
    "visual_style[\"vertex_size\"] = 5\n",
    "visual_style[\"vertex_color\"] = 'yellow'\n",
    "visual_style[\"vertex_shape\"] = 'circle'\n",
    "visual_style[\"edge_arrow_size\"] = 0.01\n",
    "# Plot the graph\n",
    "out = plot(fg, **visual_style)\n",
    "out.save(\"fg.png\")\n",
    "\n",
    "conn = fg.is_connected()\n",
    "print(\"Is connected? {}\".format(conn))\n",
    "cluster = fg.clusters(mode=\"weak\")\n",
    "print(\"Num of connected components: {}\".format(len(cluster)))\n",
    "print(\"Size of connected components: {}\".format(cluster.sizes()))\n",
    "# Giant component\n",
    "gc = cluster.giant()\n",
    "summary(gc, verbosity=1, max_rows = 25, edge_list_format = 'edgelist')\n",
    "    \n",
    "\n",
    "visual_style = {}\n",
    "\n",
    "visual_style[\"bbox\"] = (600,600)\n",
    "visual_style[\"label\"] = []\n",
    "visual_style[\"layout\"] = gc.layout_fruchterman_reingold()\n",
    "visual_style[\"vertex_size\"] = 5\n",
    "visual_style[\"vertex_color\"] = 'red'\n",
    "visual_style[\"vertex_shape\"] = 'circle'\n",
    "visual_style[\"edge_arrow_size\"] = 0.2\n",
    "#visual_style[\"edge_width\"] = np.array(gc.es[\"weight\"])/10\n",
    "\n",
    "out = plot(gc, **visual_style)\n",
    "out.save('gc.png')\n"
   ]
  },
  {
   "cell_type": "code",
   "execution_count": 13,
   "metadata": {},
   "outputs": [
    {
     "data": {
      "text/plain": [
       "<Figure size 432x288 with 0 Axes>"
      ]
     },
     "execution_count": 13,
     "metadata": {},
     "output_type": "execute_result"
    },
    {
     "name": "stdout",
     "output_type": "stream",
     "text": [
      "Max degree: 1098\n",
      "Max degree node: 492\n",
      "Neighborhood len: 1099\n",
      "Neighbors len: 1098\n",
      "1099\n"
     ]
    },
    {
     "data": {
      "text/plain": [
       "<Figure size 432x288 with 0 Axes>"
      ]
     },
     "metadata": {},
     "output_type": "display_data"
    }
   ],
   "source": [
    "# degree distribution\n",
    "plt.figure(1)\n",
    "fb_deg = gc.degree(mode='all') # con all calcola il grado del grafo non direzionale, resstituisce un array di gradi per ogni nodo\n",
    "print(\"Max degree: {}\".format(max(fb_deg)))\n",
    "id_max = np.argmax(fb_deg)\n",
    "print(\"Max degree node: {}\".format(id_max))\n",
    "nei = gc.neighborhood(id_max, order=1, mode='all')\n",
    "print(\"Neighborhood len: {}\".format(len(nei)))\n",
    "nei_2 = gc.neighbors(id_max)\n",
    "print(\"Neighbors len: {}\".format(len(nei_2)))\n",
    "print(gc.neighborhood_size(id_max, order=1, mode='all'))"
   ]
  },
  {
   "cell_type": "code",
   "execution_count": 14,
   "metadata": {},
   "outputs": [
    {
     "data": {
      "text/plain": [
       "<Figure size 432x288 with 0 Axes>"
      ]
     },
     "execution_count": 14,
     "metadata": {},
     "output_type": "execute_result"
    },
    {
     "data": {
      "text/plain": [
       "[<matplotlib.lines.Line2D at 0x7fd8dce0f910>]"
      ]
     },
     "execution_count": 14,
     "metadata": {},
     "output_type": "execute_result"
    },
    {
     "data": {
      "text/plain": [
       "Text(0.5, 0, '$d$')"
      ]
     },
     "execution_count": 14,
     "metadata": {},
     "output_type": "execute_result"
    },
    {
     "data": {
      "text/plain": [
       "Text(0, 0.5, '$P(D>d)$')"
      ]
     },
     "execution_count": 14,
     "metadata": {},
     "output_type": "execute_result"
    },
    {
     "data": {
      "text/plain": [
       "Text(0.5, 1.0, 'Degree CCDF in a lin-lin scale')"
      ]
     },
     "execution_count": 14,
     "metadata": {},
     "output_type": "execute_result"
    },
    {
     "data": {
      "text/plain": [
       "[<matplotlib.lines.Line2D at 0x7fd8dccc90d0>]"
      ]
     },
     "execution_count": 14,
     "metadata": {},
     "output_type": "execute_result"
    },
    {
     "data": {
      "text/plain": [
       "Text(0.5, 0, '$d$')"
      ]
     },
     "execution_count": 14,
     "metadata": {},
     "output_type": "execute_result"
    },
    {
     "data": {
      "text/plain": [
       "Text(0, 0.5, '$P(D>d)$')"
      ]
     },
     "execution_count": 14,
     "metadata": {},
     "output_type": "execute_result"
    },
    {
     "data": {
      "text/plain": [
       "Text(0.5, 1.0, 'Degree CCDF in a log-log scale')"
      ]
     },
     "execution_count": 14,
     "metadata": {},
     "output_type": "execute_result"
    },
    {
     "data": {
      "text/plain": [
       "<Figure size 432x288 with 0 Axes>"
      ]
     },
     "metadata": {},
     "output_type": "display_data"
    },
    {
     "data": {
      "image/png": "[encoded data removed]",
      "text/plain": [
       "<Figure size 864x288 with 2 Axes>"
      ]
     },
     "metadata": {
      "needs_background": "light"
     },
     "output_type": "display_data"
    }
   ],
   "source": [
    "# CCDF\n",
    "deg_cdf = ECDF(fb_deg) # generatiìore di funzioni, restituisce una funzione interpolante per la CDF\n",
    "default_sizes = plt.rcParams[\"figure.figsize\"]\n",
    "fig_sizes = (2*default_sizes[0], default_sizes[1])\n",
    "    \n",
    "#plotting CCDF\n",
    "plt.figure(3)\n",
    "fig, (ax1, ax2) = plt.subplots(1, 2, figsize = fig_sizes)\n",
    "degs = np.arange(1,max(fb_deg)+1) # tutti i gradi della mia rete\n",
    "ax1.plot(degs, 1-deg_cdf(degs), 'bo')\n",
    "ax1.set_xlabel(\"$d$\")\n",
    "ax1.set_ylabel(\"$P(D>d)$\")\n",
    "ax1.set_title(\"Degree CCDF in a lin-lin scale\")\n",
    "\n",
    "ax2.loglog(degs, 1-deg_cdf(degs), 'bo')\n",
    "ax2.set_xlabel(\"$d$\")\n",
    "ax2.set_ylabel(\"$P(D>d)$\")\n",
    "ax2.set_title(\"Degree CCDF in a log-log scale\")\n",
    "plt.savefig(\"CCDF.png\")"
   ]
  },
  {
   "cell_type": "code",
   "execution_count": 15,
   "metadata": {},
   "outputs": [
    {
     "name": "stdout",
     "output_type": "stream",
     "text": [
      "Erdos Renyi GC node count: 10000\n",
      "Original GC node count: 10000\n"
     ]
    }
   ],
   "source": [
    "# FITTING DELLA CCDF ############################################\n",
    "# genero una rete con lo stesso numero di nodi e archi ma secondo il modello del ranndom graph (Erdos Renyi)\n",
    "er_p = mean(gc.degree()) / gc.vcount()\n",
    "er_graph = Graph.Erdos_Renyi(gc.vcount(), er_p)\n",
    "\n",
    "# Erdos Renyi giant component\n",
    "er_gc = er_graph.clusters(mode = \"WEAK\").giant()\n",
    "print(\"Erdos Renyi GC node count: {}\".format(er_gc.vcount()))\n",
    "print(\"Original GC node count: {}\".format(gc.vcount()))\n",
    "\n"
   ]
  },
  {
   "cell_type": "code",
   "execution_count": 16,
   "metadata": {},
   "outputs": [
    {
     "data": {
      "image/png": "[encoded data removed]",
      "text/plain": [
       "<Figure size 864x576 with 3 Axes>"
      ]
     },
     "metadata": {
      "needs_background": "light"
     },
     "output_type": "display_data"
    }
   ],
   "source": [
    "# plotting\n",
    "# we use GridSpecs for a finer control of the plot positioning\n",
    "fig_sizes = (fig_sizes[0], 2*default_sizes[1])\n",
    "f = plt.figure(figsize = fig_sizes)\n",
    "\n",
    "# create a 2x2 Grid Specification\n",
    "gs = gridspec.GridSpec(2, 2)\n",
    "\n",
    "# add subplots to the figure, using the GridSpec gs\n",
    "# position [0,0] (upper-left corner)\n",
    "ax1 = plt.subplot(gs[0,0])\n",
    "ax2 = plt.subplot(gs[0,1])\n",
    "# the third plot spans the entire second row\n",
    "ax3 = plt.subplot(gs[1,:])\n",
    "\n"
   ]
  },
  {
   "cell_type": "code",
   "execution_count": 22,
   "metadata": {},
   "outputs": [],
   "source": [
    "# compute and plot the histogram of FB degrees\n",
    "deg_gc = gc.degree()    # gradi del giant componet\n",
    "_,_,_ = ax1.hist(deg_gc, bins=range(1,max(deg_gc)+2), density = True, color = 'red')\n",
    "_ = ax1.set_xlim(0,80)\n",
    "_ = ax1.set_xlabel(\"$d$\")\n",
    "_ = ax1.set_ylabel(\"Frequencies\")\n",
    "_ = ax1.set_title(\"Histogram of FB degrees\")\n",
    "\n"
   ]
  },
  {
   "cell_type": "code",
   "execution_count": 23,
   "metadata": {},
   "outputs": [],
   "source": [
    "# compute and plot the histogram of ER degrees\n",
    "deg_er = er_gc.degree()\n",
    "_,_,_ = ax2.hist(deg_er, bins=range(1,max(deg_er)+2), density = True, color = 'blue')\n",
    "_ = ax2.set_xlim(0,80)\n",
    "_ = ax2.set_xlabel(\"$d$\")\n",
    "_ = ax2.set_ylabel(\"Frequencies\")\n",
    "_ = ax2.set_title(\"Histogram of ER degrees\")\n",
    "\n"
   ]
  },
  {
   "cell_type": "code",
   "execution_count": 24,
   "metadata": {},
   "outputs": [],
   "source": [
    "# compute and plot the degree CCDFs\n",
    "fb_ecdf = ECDF(deg_gc)\n",
    "er_ecdf = ECDF(deg_er)\n",
    "x = np.arange(1,max(deg_gc)+1)\n",
    "_ = ax3.loglog(x, 1-fb_ecdf(x), 'ro', label = 'Facebook')\n",
    "x = np.arange(1,max(deg_er)+1)\n",
    "_ = ax3.loglog(x, 1-er_ecdf(x), 'bo', label = 'Erdos-Renyi')\n",
    "_ = ax3.set_xlabel(\"$d$\")\n",
    "_ = ax3.set_ylabel(\"$P(D>d)$\")\n",
    "_ = ax3.set_title(\"Comparison between degree CCDFs\")\n",
    "_ = ax3.legend(numpoints = 1)\n",
    "plt.savefig(\"er_plot.png\")\n",
    "plt.close()"
   ]
  },
  {
   "cell_type": "code",
   "execution_count": 27,
   "metadata": {},
   "outputs": [
    {
     "name": "stderr",
     "output_type": "stream",
     "text": [
      "Calculating best minimal value for power law fit\n",
      "/home/osboxes/.local/lib/python3.7/site-packages/powerlaw.py:700: RuntimeWarning: invalid value encountered in true_divide\n",
      "  (Theoretical_CDF * (1 - Theoretical_CDF))\n"
     ]
    },
    {
     "name": "stdout",
     "output_type": "stream",
     "text": [
      "PL exponents: (xmin=40) 2.53; (auto xmin=169.00) 4.25\n"
     ]
    },
    {
     "data": {
      "image/png": "[encoded data removed]",
      "text/plain": [
       "<Figure size 864x576 with 4 Axes>"
      ]
     },
     "metadata": {
      "needs_background": "light"
     },
     "output_type": "display_data"
    }
   ],
   "source": [
    " #############################################################\n",
    "# fitting with power law\n",
    "    \n",
    "\n",
    "# fitting della power law\n",
    "xmin = 40 #può essere impostato e passato alla funzione fit\n",
    "fit_pl_auto = Fit(gc.degree()) # restituisce un oggetto con il campo alpha (esponente pl che meglio fitta i miei dati) \n",
    "                                                # e xmin (valore minimo del grado per cui il fitting è valido)\n",
    "fit_pl = Fit(gc.degree(), xmin=xmin)\n",
    "\n",
    "xmin_auto = fit_pl_auto.xmin\n",
    "exp_pl_auto = fit_pl_auto.alpha\n",
    "exp_pl = fit_pl.alpha\n",
    "print (\"PL exponents: (xmin=%d) %.2f; (auto xmin=%.2f) %.2f\" % (xmin, exp_pl, xmin_auto, exp_pl_auto))\n",
    "\n",
    "# genero due reti PL equivalenti con alpha e xmin trovati\n",
    "N = gc.vcount()\n",
    "M = gc.ecount()\n",
    "pl_graph_auto = Graph.Static_Power_Law(N, int(round(M)), xmin_auto)\n",
    "pl_graph_auto_gc = pl_graph_auto.clusters(mode='weak').giant()\n",
    "\n",
    "pl_graph = Graph.Static_Power_Law(N, int(round(M)), xmin)\n",
    "pl_graph_gc = pl_graph.clusters(mode='weak').giant()\n",
    "\n",
    "\n",
    "# plotting\n",
    "fig_sizes = (fig_sizes[0], 2*default_sizes[1])\n",
    "f = plt.figure(figsize = fig_sizes)\n",
    "\n",
    "# create a 2x3 Grid Specification\n",
    "gs = gridspec.GridSpec(2, 3)\n",
    "\n",
    "# add subplots to the figure, using the GridSpec gs\n",
    "# position [0,0] (upper-left corner)\n",
    "ax1 = plt.subplot(gs[0,0])\n",
    "ax2 = plt.subplot(gs[0,1])\n",
    "ax3 = plt.subplot(gs[0,2])\n",
    "# the fourth plot spans the entire second row\n",
    "ax4 = plt.subplot(gs[1,:])\n",
    "\n",
    "# compute and plot the histogram of FB degrees\n",
    "d_fb = gc.degree()\n",
    "_,_,_ = ax1.hist(d_fb, bins=range(1,max(d_fb)+2), density = True, color = 'red')\n",
    "_ = ax1.set_xlim(0,80)\n",
    "_ = ax1.set_xlabel(\"$d$\")\n",
    "_ = ax1.set_ylabel(\"Frequencies\")\n",
    "_ = ax1.set_title(\"Histogram of FB degrees\")\n",
    "\n",
    "# compute and plot the histogram of Static Power Law degrees with set xmin\n",
    "d_pl = pl_graph_gc.degree()\n",
    "_,_,_ = ax2.hist(d_pl, bins=range(1,max(d_pl)+2), density = True, color = 'blue', label = \"$\\gamma$ = %.2f\" % exp_pl)\n",
    "_ = ax2.set_xlim(0,80)\n",
    "_ = ax2.set_xlabel(\"$d$\")\n",
    "_ = ax2.set_ylabel(\"Frequencies\")\n",
    "_ = ax2.set_title(\"Histogram of PL degrees (xmin=%d)\" % xmin)\n",
    "_ = ax2.legend()\n",
    "\n",
    "# compute and plot the histogram of Static Power law degrees with auto xmin\n",
    "d_pl_auto = pl_graph_auto_gc.degree()\n",
    "_,_,_ = ax3.hist(d_pl_auto, bins=range(1,max(d_pl_auto)+2), density = True, color = 'green', label = \"$\\gamma$ = %.2f\" % exp_pl_auto)\n",
    "_ = ax3.set_xlim(0,80)\n",
    "_ = ax3.set_xlabel(\"$d$\")\n",
    "_ = ax3.set_ylabel(\"Frequencies\")\n",
    "_ = ax3.set_title(\"Histogram of PL degrees (auto xmin)\")\n",
    "_ = ax3.legend()\n",
    "\n",
    "# compute and plot the degree CCDFs\n",
    "fb_ecdf = ECDF(d_fb)\n",
    "pl_ecdf = ECDF(d_pl)\n",
    "pl_auto_ecdf = ECDF(d_pl_auto)\n",
    "x = np.arange(1,max(d_fb)+1)\n",
    "_ = ax4.loglog(x, 1-fb_ecdf(x), 'ro', label = 'Facebook')\n",
    "x = np.arange(1,max(d_pl)+1)\n",
    "_ = ax4.loglog(x, 1-pl_ecdf(x), 'bo', label = 'Static PL xmin=%d' % xmin)\n",
    "x = np.arange(1,max(d_pl_auto)+1)\n",
    "_ = ax4.loglog(x, 1-pl_auto_ecdf(x), 'go', label = 'Static PL auto xmin')\n",
    "_ = ax4.set_xlabel(\"$d$\")\n",
    "_ = ax4.set_ylabel(\"$P(D>d)$\")\n",
    "_ = ax4.set_title(\"Comparison between degree CCDFs\")\n",
    "_ = ax4.legend(numpoints = 1)\n"
   ]
  },
  {
   "cell_type": "code",
   "execution_count": 28,
   "metadata": {},
   "outputs": [],
   "source": [
    "# for reference, plot the power law functions corresponding to the fitting with fixed and automatic xmin\n",
    "x1 = np.arange(xmin_auto, max(d_fb)+1)\n",
    "_ = ax4.loglog(x1, 1000000000000 * x1**(-exp_pl_auto), 'g-', linewidth = 3)\n",
    "x1 = np.arange(xmin, max(d_fb)+1)\n",
    "_ = ax4.loglog(x1, 1000 * x1**(-exp_pl), 'b-', linewidth = 2)\n",
    "plt.savefig(\"PL compare.png\")\n",
    "plt.close()"
   ]
  },
  {
   "cell_type": "code",
   "execution_count": 29,
   "metadata": {},
   "outputs": [
    {
     "name": "stdout",
     "output_type": "stream",
     "text": [
      "Assortativity\n",
      "Correlation coefficient: 0.0694862700376148\n"
     ]
    },
    {
     "data": {
      "text/plain": [
       "<Figure size 432x288 with 0 Axes>"
      ]
     },
     "execution_count": 29,
     "metadata": {},
     "output_type": "execute_result"
    },
    {
     "data": {
      "text/plain": [
       "[<matplotlib.lines.Line2D at 0x7fd8d9ed7910>]"
      ]
     },
     "execution_count": 29,
     "metadata": {},
     "output_type": "execute_result"
    },
    {
     "data": {
      "text/plain": [
       "Text(0.5, 0, 'degree')"
      ]
     },
     "execution_count": 29,
     "metadata": {},
     "output_type": "execute_result"
    },
    {
     "data": {
      "text/plain": [
       "Text(0, 0.5, 'Neighbors degree')"
      ]
     },
     "execution_count": 29,
     "metadata": {},
     "output_type": "execute_result"
    },
    {
     "data": {
      "text/plain": [
       "Text(0.5, 1.0, '$knn$ index for the FB Giant Component')"
      ]
     },
     "execution_count": 29,
     "metadata": {},
     "output_type": "execute_result"
    },
    {
     "data": {
      "text/plain": [
       "[<matplotlib.lines.Line2D at 0x7fd8d9e1e390>]"
      ]
     },
     "execution_count": 29,
     "metadata": {},
     "output_type": "execute_result"
    },
    {
     "data": {
      "text/plain": [
       "Text(0.5, 0, 'degree')"
      ]
     },
     "execution_count": 29,
     "metadata": {},
     "output_type": "execute_result"
    },
    {
     "data": {
      "text/plain": [
       "Text(0, 0.5, 'Average degree of neighbors')"
      ]
     },
     "execution_count": 29,
     "metadata": {},
     "output_type": "execute_result"
    },
    {
     "data": {
      "text/plain": [
       "Text(0.5, 1.0, '$knnk$ index for the FB Giant Component')"
      ]
     },
     "execution_count": 29,
     "metadata": {},
     "output_type": "execute_result"
    },
    {
     "data": {
      "text/plain": [
       "<Figure size 432x288 with 0 Axes>"
      ]
     },
     "metadata": {},
     "output_type": "display_data"
    }
   ],
   "source": [
    "# degree correlation\n",
    "# assortativity\n",
    "print(\"Assortativity\")\n",
    "# coefficiente di corerelazione\n",
    "print(\"Correlation coefficient: {}\".format(gc.assortativity_degree())) \n",
    "# restituisce l'indice di correlazione fra i gradi dei nodi vicini.\n",
    "# se è positivo, assortativo, negativo disassortativo, se prossimo allo zero non si puo dire\n",
    " \n",
    "fb_knn, fb_knnk = gc.knn() #restituisce due vettori\n",
    "plt.figure(6)\n",
    "fig, (ax1, ax2) = plt.subplots(1, 2, figsize = fig_sizes)\n",
    "ax1.loglog(gc.degree(), fb_knn, 'go')\n",
    "ax1.set_xlabel(\"degree\")\n",
    "ax1.set_ylabel(\"Neighbors degree\")\n",
    "ax1.set_title(\"$knn$ index for the FB Giant Component\")\n",
    "\n",
    "ax2.loglog(range(1,max(gc.degree())+1), fb_knnk, 'go')\n",
    "ax2.set_xlabel(\"degree\")\n",
    "ax2.set_ylabel(\"Average degree of neighbors\")\n",
    "ax2.set_title(\"$knnk$ index for the FB Giant Component\")\n",
    "plt.savefig(\"assortatyvity.png\")\n",
    "plt.close()"
   ]
  },
  {
   "cell_type": "code",
   "execution_count": 30,
   "metadata": {},
   "outputs": [
    {
     "name": "stdout",
     "output_type": "stream",
     "text": [
      "Clustering C1: 0.15963124513639235\n",
      "Clustering C2: 0.2650973730927101\n",
      "Theoretic Clustering Random Graph: 0.0001\n",
      "ER Clustering C1: 0.004601800457164125\n",
      "ER Clustering C2: 0.004584641759890113\n"
     ]
    }
   ],
   "source": [
    "# CLUSTERING\n",
    "# my graph\n",
    "c1_idx = gc.transitivity_undirected() #C1\n",
    "c2_idx = gc.transitivity_avglocal_undirected(mode=\"zero\") # C2\n",
    "c_random_idx = 1/gc.vcount()\n",
    "# Erdos Renyi\n",
    "c1_er_idx = er_gc.transitivity_undirected() #C1\n",
    "c2_er_idx = er_gc.transitivity_avglocal_undirected(mode=\"zero\") # C2\n",
    "    \n",
    "\n",
    "print(\"Clustering C1: {}\".format(c1_idx))\n",
    "print(\"Clustering C2: {}\".format(c2_idx))\n",
    "print(\"Theoretic Clustering Random Graph: {}\".format(c_random_idx))\n",
    "print(\"ER Clustering C1: {}\".format(c1_er_idx))\n",
    "print(\"ER Clustering C2: {}\".format(c2_er_idx))"
   ]
  },
  {
   "cell_type": "code",
   "execution_count": 31,
   "metadata": {},
   "outputs": [
    {
     "data": {
      "text/plain": [
       "[0.45281975672687064,\n",
       " 0.37300743889479276,\n",
       " 0.5080645161290323,\n",
       " 0.4229643656395249,\n",
       " 0.4600262123197903,\n",
       " 0.3854722309381864,\n",
       " 0.4621026894865526,\n",
       " 0.48091603053435117,\n",
       " 0.44713375796178345,\n",
       " 0.37788372808366655,\n",
       " 0.44278248333032977,\n",
       " 0.3585291113381001,\n",
       " 0.4539072602992795,\n",
       " 0.44803063457330417,\n",
       " 0.49307645996387717,\n",
       " 0.4787607170693687,\n",
       " 0.39860480207657367,\n",
       " 0.4164406779661017,\n",
       " 0.4095]"
      ]
     },
     "execution_count": 31,
     "metadata": {},
     "output_type": "execute_result"
    },
    {
     "data": {
      "text/plain": [
       "[7114.526571554576,\n",
       " 166.09260039975757,\n",
       " 19692.701063811146,\n",
       " 1593.7438087662363,\n",
       " 13953.057832457154,\n",
       " 99.0432103131069,\n",
       " 10098.070814655803,\n",
       " 18112.9964367263,\n",
       " 1834.9154975698866,\n",
       " 132.85475636206823,\n",
       " 944.5158330332137,\n",
       " 147.1878732176739,\n",
       " 10917.37755560452,\n",
       " 3436.1398260416095,\n",
       " 28099.26811854999,\n",
       " 16880.881838173907,\n",
       " 5559.581109557735,\n",
       " 1562.2563675436577,\n",
       " 1147.6478647899116]"
      ]
     },
     "execution_count": 31,
     "metadata": {},
     "output_type": "execute_result"
    },
    {
     "data": {
      "text/plain": [
       "90936"
      ]
     },
     "execution_count": 31,
     "metadata": {},
     "output_type": "execute_result"
    },
    {
     "data": {
      "text/plain": [
       "3353.644526935173"
      ]
     },
     "execution_count": 31,
     "metadata": {},
     "output_type": "execute_result"
    },
    {
     "data": {
      "text/plain": [
       "(340, 2330)"
      ]
     },
     "execution_count": 31,
     "metadata": {},
     "output_type": "execute_result"
    }
   ],
   "source": [
    "# centrality\n",
    "idx = np.argwhere(np.array(gc.degree())>60).flatten()\n",
    "sub_g = gc.induced_subgraph(idx)\n",
    "    \n",
    "# closeness centrality\n",
    "sub_g.closeness()[0:19]\n",
    "\n",
    "# betweenness centrality\n",
    "sub_g.betweenness()[0:19]\n",
    "\n",
    "# edge betweenness, and edge with the maximum edge betweenness\n",
    "edge_bet = sub_g.edge_betweenness()\n",
    "idx_max = np.argmax(edge_bet)\n",
    "idx_max\n",
    "edge_bet[idx_max]\n",
    "sub_g.es[idx_max].tuple\n"
   ]
  },
  {
   "cell_type": "code",
   "execution_count": 32,
   "metadata": {},
   "outputs": [
    {
     "name": "stdout",
     "output_type": "stream",
     "text": [
      "Number of detected communities: 11\n",
      "size of communities: [4688, 3769, 29, 181, 723, 64, 41, 2, 2, 3, 9]\n"
     ]
    },
    {
     "data": {
      "text/plain": [
       "array([     6,     11,     16, ..., 228586, 228608, 228659])"
      ]
     },
     "execution_count": 32,
     "metadata": {},
     "output_type": "execute_result"
    }
   ],
   "source": [
    "# comunity detection\n",
    "idxs = np.argwhere(np.array(gc.degree()) > 3).flatten()\n",
    "subgraph = gc.induced_subgraph(idxs)\n",
    "# Fastgreedy algorithm\n",
    "vd = subgraph.community_fastgreedy()\n",
    "\n",
    "# The number of detected communities\n",
    "print(\"Number of detected communities: {}\".format(vd.optimal_count))\n",
    "# convert to a cluster object to access additional information\n",
    "vd_clust = vd.as_clustering()\n",
    "\n",
    "# the sizes of the communities\n",
    "print(\"size of communities: {}\".format(vd_clust.sizes()))\n",
    "\n",
    "# plot the communities\n",
    "out = plot(vd_clust, layout=gc.layout_fruchterman_reingold(), mark_groups = True)\n",
    "out.save(\"comunities.png\")\n",
    "    \n",
    "# identify the indices of edges that cut across different communities\n",
    "cros = np.array(vd_clust.crossing())\n",
    "np.argwhere(cros == True).flatten()"
   ]
  },
  {
   "cell_type": "code",
   "execution_count": 33,
   "metadata": {},
   "outputs": [
    {
     "data": {
      "text/plain": [
       "<Figure size 432x288 with 0 Axes>"
      ]
     },
     "execution_count": 33,
     "metadata": {},
     "output_type": "execute_result"
    },
    {
     "name": "stdout",
     "output_type": "stream",
     "text": [
      "FB net shortest path: 3.055108000000033\n",
      "ER net shortest path: 2.8032019999999\n"
     ]
    },
    {
     "data": {
      "image/png": "[encoded data removed]",
      "text/plain": [
       "<Figure size 432x288 with 1 Axes>"
      ]
     },
     "metadata": {
      "needs_background": "light"
     },
     "output_type": "display_data"
    }
   ],
   "source": [
    "# shortest path\n",
    "#quanti hop servono a collegare due nodi nella rete\n",
    "# si calcola lo shortest path medio\n",
    "# campionamento dei nodi\n",
    "# grafo iniziale\n",
    "src = sample(list(gc.vs), 1000)\n",
    "trg = sample(list(gc.vs), 1000)\n",
    "n_hops_u = gc.shortest_paths(source = src, target = trg, weights = None)\n",
    "n_hops_u = np.array(n_hops_u).flatten()\n",
    "plt.figure(6)\n",
    "_,_,_ = plt.hist(n_hops_u, bins = range(1,max(n_hops_u)+2), density = True)\n",
    "_ = plt.axvline(mean(n_hops_u), color = 'gold', linewidth = 4)\n",
    "_ = plt.xlabel(\"# of hops\")\n",
    "_ = plt.ylabel(\"frequency\")\n",
    "_ = plt.title(\"Histogram of UNWEIGHTED path length\")\n",
    "plt.savefig(\"shortest_path.png\")\n",
    "# Erdos Renyi\n",
    "er_src = sample(list(er_gc.vs), 1000)\n",
    "er_trg = sample(list(er_gc.vs), 1000)\n",
    "gc_sp_avg = mean(np.array(gc.shortest_paths(source = src, target = trg, weights = None)).flatten())\n",
    "er_gc_sp_avg = mean(np.array(er_gc.shortest_paths(source = er_src, target = er_trg, weights = None)).flatten())\n",
    "print(\"FB net shortest path: {}\".format(gc_sp_avg))\n",
    "print(\"ER net shortest path: {}\".format(er_gc_sp_avg))"
   ]
  },
  {
   "cell_type": "code",
   "execution_count": null,
   "metadata": {},
   "outputs": [],
   "source": []
  }
 ],
 "metadata": {
  "kernelspec": {
   "display_name": "Python 3",
   "language": "python",
   "name": "python3"
  },
  "language_info": {
   "codemirror_mode": {
    "name": "ipython",
    "version": 3
   },
   "file_extension": ".py",
   "mimetype": "text/x-python",
   "name": "python",
   "nbconvert_exporter": "python",
   "pygments_lexer": "ipython3",
   "version": "3.7.6"
  }
 },
 "nbformat": 4,
 "nbformat_minor": 4
}
