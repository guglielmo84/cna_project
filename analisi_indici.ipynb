{
 "cells": [
  {
   "cell_type": "markdown",
   "metadata": {},
   "source": [
    "# Import useful stuff"
   ]
  },
  {
   "cell_type": "code",
   "execution_count": 35,
   "metadata": {},
   "outputs": [],
   "source": [
    "# interactive plots in Jupyter, used to show plots inline in the notebook\n",
    "%matplotlib inline\n",
    "\n",
    "# The igraph library\n",
    "from igraph import *\n",
    "\n",
    "# Numpy for enhanced math array management\n",
    "import numpy as np\n",
    "\n",
    "#Usata per calcolare il logaritmo\n",
    "from math import log\n",
    "\n",
    "# statistical tools (we only use ECDF)\n",
    "from statsmodels.distributions.empirical_distribution import ECDF\n",
    "\n",
    "# Mathematical plotting\n",
    "import matplotlib.pyplot as plt\n",
    "import matplotlib.gridspec as gridspec\n",
    "\n",
    "# use to control whether to show the entire cell output or only the last_expr (default)\n",
    "from IPython.core.interactiveshell import InteractiveShell\n",
    "InteractiveShell.ast_node_interactivity = \"all\"\n",
    "\n",
    "# to generate random numbers\n",
    "from random import *\n",
    "\n",
    "# to fit power law distributions\n",
    "from powerlaw import *"
   ]
  },
  {
   "cell_type": "markdown",
   "metadata": {},
   "source": [
    "# INTRODUZIONE\n",
    "## Facebook (WOSN) is undirected network contains friendship data of Facebook users. \n",
    "### A node represents a user and an edge represents a friendship between two users."
   ]
  },
  {
   "cell_type": "markdown",
   "metadata": {},
   "source": [
    "# Parameters"
   ]
  },
  {
   "cell_type": "code",
   "execution_count": 68,
   "metadata": {},
   "outputs": [],
   "source": [
    "#Select the dataset\n",
    "#dataset=\"./facebook.ncol\"\n",
    "#dataset=\"./node.ncol\"\n",
    "#dataset=\"./dataset/socfb-wosn-friends.cut.edges        #BIGGEST\n",
    "#dataset=\"./dataset/socfb-wosn-friends.cut.sb.43K.edges #MEDIUM\n",
    "dataset=\"./dataset/socfb-wosn-friends.cut.sb.10K.edges\"\n",
    "\n",
    "#Select if the dataset is directed or undirected\n",
    "#direct=True\n",
    "direct=False\n",
    "\n",
    "#Select if connection-mode is weak or or strong\n",
    "#This is the way to find Giant component\n",
    "conn_mode=\"WEAK\"\n",
    "#conn_mode=\"STRONG\""
   ]
  },
  {
   "cell_type": "markdown",
   "metadata": {},
   "source": [
    "# Creating and manipulating graphs\n",
    "## Reading graphs from files & data frames / Writing graphs to files"
   ]
  },
  {
   "cell_type": "code",
   "execution_count": 69,
   "metadata": {},
   "outputs": [
    {
     "name": "stdout",
     "output_type": "stream",
     "text": [
      "IGRAPH UN-- 10000 229693 -- \n",
      "+ attr: name (v)\n",
      "+ edges (vertex names):\n",
      "        edge  \n",
      "[0]    5--22  \n",
      "[1]    5--683 \n",
      "[2]    5--821 \n",
      "[3]    5--469 \n",
      "[4]    5--639 \n",
      "[5]    5--814 \n",
      "[6]    5--1528\n",
      "[7]    5--1640\n",
      "[8]    5--1642\n",
      "[9]    5--1643\n",
      "[10]   5--1648\n",
      "[11]   5--2548\n",
      "[12]   5--4246\n",
      "[13]   5--4503\n",
      "[14]   5--4964\n",
      "[15]   9--23  \n",
      "[16]   9--2058\n",
      "[17]   9--309 \n",
      "[18]   9--2175\n",
      "[19]   469--9 \n",
      "[20]   639--9 \n",
      "[21]   1528--9\n",
      "[22]   1640--9\n",
      "[23]   9--47  \n",
      "[24]   9--100 \n"
     ]
    }
   ],
   "source": [
    "file_graph = read(dataset, format = \"ncol\", directed = direct)\n",
    "summary(file_graph, verbosity=1, max_rows = 25, edge_list_format = 'edgelist')"
   ]
  },
  {
   "cell_type": "markdown",
   "metadata": {},
   "source": [
    "# Punto 3.a)\n",
    "### Il Giant Component esiste?"
   ]
  },
  {
   "cell_type": "code",
   "execution_count": 70,
   "metadata": {},
   "outputs": [
    {
     "name": "stdout",
     "output_type": "stream",
     "text": [
      "The graph is STRONGLY CONNECTED. \n",
      "\n",
      "Nodes are mutally connected. All Graph is the Giant Component\n"
     ]
    }
   ],
   "source": [
    "# Check whether the graph is connected or not\n",
    "if file_graph.is_connected(mode = \"STRONG\")==True:\n",
    "    print (\"The graph is STRONGLY CONNECTED. \\n\\nNodes are mutally connected. All Graph is the Giant Component\")\n",
    "    giant_component=file_graph\n",
    "elif file_graph.is_connected(mode = \"WEAK\")==True:\n",
    "    print (\"The graph is WEAKLY CONNECTED. \\n\\nNodes are connected. All Graph is the Giant Component\")\n",
    "    giant_component=file_graph\n",
    "else:\n",
    "    print (\"The graph is NOT CONNECTED. \\n\\nIt is necessary to find the Giant Component\")    \n",
    "    # Compute the connected components in the graph\n",
    "    #   - \"WEAK\" does not consider the direction of edges\n",
    "    #All clusters\n",
    "    clusters_list = file_graph.clusters(mode = conn_mode)\n",
    "    # the number of clusters\n",
    "    print (\"Number of clusters: \",len(clusters_list))    \n",
    "    # the membership of vertices in the clusters. Every pos has the cluster_ID associated to the vertex\n",
    "    #clusters_list.membership[0:10]\n",
    "    # the sizes of the clusters\n",
    "    #print (\"Clusters size:\")\n",
    "    #clusters_list.sizes()[0:10]\n",
    "\n",
    "    #Does Giant COmponent exist? \n",
    "    #GC esiste se contiene una frazione >> di nodi rispetto a logN (N =numero totale di nodi nel grafo), \n",
    "    #Gli altri componenti sono nell’ordine di logN\n",
    "\n",
    "    \n",
    "    #Trashold\n",
    "    trashold=10*log(file_graph.vcount(),10)\n",
    "    print (\"Trashold is:\", trashold)\n",
    "    \n",
    "    \n",
    "    # sizes (sorted, first 20 elements)\n",
    "    sorted_clusters = sorted(clusters_list.sizes(), reverse=True)\n",
    "    print(\"Lista dei cluster ordinata per dimensione:\")\n",
    "    sorted_clusters[0:19]\n",
    "    \n",
    "    \n",
    "    #bigger_cluster=max(clusters_list.sizes())\n",
    "    print (\"Bigger Cluster:\", sorted_clusters[0])\n",
    "    print (\"2nd Bigger Cluster:\", sorted_clusters[1])\n",
    "    \n",
    "    if sorted_clusters[0] > trashold and sorted_clusters[1] < trashold:\n",
    "        print (\"GIANT COMPONENT EXIST!!!\")\n",
    "    \n",
    "        #Select the Giant Componet (the biggest cluster)\n",
    "        giant_component = clusters_list.giant()\n",
    "    \n",
    "        # number of vertices and edges in the original graph\n",
    "        print (\"Numero di nodi del giant componet \", giant_component.vcount())\n",
    "        print (\"Numero di nodi totali \", file_graph.vcount())\n",
    "        print (\"GC: \",giant_component.vcount()*100/file_graph.vcount(),\"%\")\n",
    "    \n",
    "        #From this time we consider GC as the only one cluster \n",
    "        #file_graph=giant_component\n",
    "    else :\n",
    "        print (\"GIANT COMPONENT DOES NOT EXIST!!!\")\n",
    "        exit(0)\n",
    "\n"
   ]
  },
  {
   "cell_type": "markdown",
   "metadata": {},
   "source": [
    "### Graph of major nodes (degree > 100)"
   ]
  },
  {
   "cell_type": "code",
   "execution_count": 71,
   "metadata": {},
   "outputs": [
    {
     "ename": "KeyError",
     "evalue": "'Attribute does not exist'",
     "output_type": "error",
     "traceback": [
      "\u001b[0;31m---------------------------------------------------------------------------\u001b[0m",
      "\u001b[0;31mKeyError\u001b[0m                                  Traceback (most recent call last)",
      "\u001b[0;32m<ipython-input-71-54eb584200eb>\u001b[0m in \u001b[0;36m<module>\u001b[0;34m\u001b[0m\n\u001b[1;32m     16\u001b[0m \u001b[0mvisual_style\u001b[0m\u001b[0;34m[\u001b[0m\u001b[0;34m\"vertex_shape\"\u001b[0m\u001b[0;34m]\u001b[0m \u001b[0;34m=\u001b[0m \u001b[0;34m'circle'\u001b[0m\u001b[0;34m\u001b[0m\u001b[0;34m\u001b[0m\u001b[0m\n\u001b[1;32m     17\u001b[0m \u001b[0mvisual_style\u001b[0m\u001b[0;34m[\u001b[0m\u001b[0;34m\"edge_arrow_size\"\u001b[0m\u001b[0;34m]\u001b[0m \u001b[0;34m=\u001b[0m \u001b[0;36m0.2\u001b[0m\u001b[0;34m\u001b[0m\u001b[0;34m\u001b[0m\u001b[0m\n\u001b[0;32m---> 18\u001b[0;31m \u001b[0mvisual_style\u001b[0m\u001b[0;34m[\u001b[0m\u001b[0;34m\"edge_width\"\u001b[0m\u001b[0;34m]\u001b[0m \u001b[0;34m=\u001b[0m \u001b[0mnp\u001b[0m\u001b[0;34m.\u001b[0m\u001b[0marray\u001b[0m\u001b[0;34m(\u001b[0m\u001b[0mgiant_component_subgraph\u001b[0m\u001b[0;34m.\u001b[0m\u001b[0mes\u001b[0m\u001b[0;34m[\u001b[0m\u001b[0;34m\"weight\"\u001b[0m\u001b[0;34m]\u001b[0m\u001b[0;34m)\u001b[0m\u001b[0;34m/\u001b[0m\u001b[0;36m10\u001b[0m\u001b[0;34m\u001b[0m\u001b[0;34m\u001b[0m\u001b[0m\n\u001b[0m\u001b[1;32m     19\u001b[0m \u001b[0;34m\u001b[0m\u001b[0m\n\u001b[1;32m     20\u001b[0m \u001b[0mplot\u001b[0m\u001b[0;34m(\u001b[0m\u001b[0mgiant_component_subgraph\u001b[0m\u001b[0;34m,\u001b[0m \u001b[0;34m**\u001b[0m\u001b[0mvisual_style\u001b[0m\u001b[0;34m)\u001b[0m\u001b[0;34m\u001b[0m\u001b[0;34m\u001b[0m\u001b[0m\n",
      "\u001b[0;31mKeyError\u001b[0m: 'Attribute does not exist'"
     ]
    }
   ],
   "source": [
    "# Select only nodes with degree > 100 from the Giant Component\n",
    "vertex_sequence = giant_component.vs.select(_degree_gt = 100)\n",
    "giant_component_subgraph = giant_component.induced_subgraph(vertex_sequence)\n",
    "\n",
    "try:\n",
    "    del visual_style\n",
    "    visual_style = {}\n",
    "except NameError:\n",
    "    visual_style = {}\n",
    "    \n",
    "visual_style[\"bbox\"] = (600,600)\n",
    "visual_style[\"label\"] = []\n",
    "visual_style[\"layout\"] = giant_component_subgraph.layout_fruchterman_reingold()\n",
    "visual_style[\"vertex_size\"] = 5\n",
    "visual_style[\"vertex_color\"] = 'red'\n",
    "visual_style[\"vertex_shape\"] = 'circle'\n",
    "visual_style[\"edge_arrow_size\"] = 0.2\n",
    "visual_style[\"edge_width\"] = np.array(giant_component_subgraph.es[\"weight\"])/10\n",
    "\n",
    "plot(giant_component_subgraph, **visual_style)"
   ]
  },
  {
   "cell_type": "code",
   "execution_count": null,
   "metadata": {},
   "outputs": [],
   "source": []
  },
  {
   "cell_type": "markdown",
   "metadata": {},
   "source": [
    "# Punto 3.b) Distribution Degree"
   ]
  },
  {
   "cell_type": "code",
   "execution_count": 48,
   "metadata": {},
   "outputs": [
    {
     "name": "stdout",
     "output_type": "stream",
     "text": [
      "Degree MASSIMO: 1098\n",
      "ID of the node with max degree:  492\n",
      "Degree MINIMO: 1\n",
      "Grado medio:  45.93859999999997\n"
     ]
    },
    {
     "data": {
      "text/plain": [
       "'\\n# the set of neighbours of the node with max degree\\n# - NB: in case of bidirectional links, the same neighbour is counted twice if mode = \\'all\\'\\nneighbours_of_major_node = giant_component.neighbors(id_max, mode=\"all\")\\nneighbours_of_major_node[0:19]\\nlen(neighbour_list_of_major_node)\\n\\n# the set of nodes reachable from id_max with AT MOST 1 jump\\nneighbours_order_1 = giant_component.neighborhood(id_max, order = 1, mode=\"all\")\\nneighbours_order_1[0:19]\\n\\n# the number of such nodes\\n# - NB: it also includes the node id_max itself (which is reachable with 0 jumps)\\n# - thus, the number of nodes reachable with one jump is this - 1\\nlen(neighbours_order_1)\\ngiant_component.neighborhood_size(id_max, order = 1, mode=\"all\")\\n'"
      ]
     },
     "execution_count": 48,
     "metadata": {},
     "output_type": "execute_result"
    }
   ],
   "source": [
    "# degree() method\n",
    "# - mode = \"ALL\" to consider the undirected graph\n",
    "degree_sequnce = giant_component.degree(mode = \"all\")\n",
    "#degree_sequnce[0:19]\n",
    "\n",
    "# the maximum degree, and the ID of the node with maximum degree\n",
    "print (\"Degree MASSIMO:\", max(degree_sequnce))\n",
    "id_max = np.argmax(degree_sequnce)\n",
    "print (\"ID of the node with max degree: \",id_max)\n",
    "print (\"Degree MINIMO:\", min(degree_sequnce))\n",
    "print (\"Grado medio: \",mean(degree_sequnce))\n",
    "\n",
    "\n",
    "\n",
    "\n",
    "\"\"\"\n",
    "# the set of neighbours of the node with max degree\n",
    "# - NB: in case of bidirectional links, the same neighbour is counted twice if mode = 'all'\n",
    "neighbours_of_major_node = giant_component.neighbors(id_max, mode=\"all\")\n",
    "neighbours_of_major_node[0:19]\n",
    "len(neighbour_list_of_major_node)\n",
    "\n",
    "# the set of nodes reachable from id_max with AT MOST 1 jump\n",
    "neighbours_order_1 = giant_component.neighborhood(id_max, order = 1, mode=\"all\")\n",
    "neighbours_order_1[0:19]\n",
    "\n",
    "# the number of such nodes\n",
    "# - NB: it also includes the node id_max itself (which is reachable with 0 jumps)\n",
    "# - thus, the number of nodes reachable with one jump is this - 1\n",
    "len(neighbours_order_1)\n",
    "giant_component.neighborhood_size(id_max, order = 1, mode=\"all\")\n",
    "\"\"\""
   ]
  },
  {
   "cell_type": "markdown",
   "metadata": {},
   "source": [
    "__Note__\n",
    "\n",
    "Why is the output of $\\tt{neighbourhood\\_size()}$ different from the length of $\\tt{nei}$?\n",
    "\n",
    "- consider that we used a __directed__ graph, and think what does it means in terms of degree and neighbours\n",
    "\n",
    "Let's redo the same on the equivalent __undirected__ graph"
   ]
  },
  {
   "cell_type": "code",
   "execution_count": 50,
   "metadata": {},
   "outputs": [
    {
     "data": {
      "text/plain": [
       "'# take the undirected version of the Giant Component \\n# combine_edges tells what to do with the weights (default, lost attribute; here: sum values)\\ngiant_component_undir = giant_component.as_undirected(combine_edges = \"sum\")\\n\\n# Note the lower number of edges with respect to the directed version.\\n# This is because igraph automatically simplifies the graph (i.e., merges edges between the same nodes)\\n# to do so manually on a multi-edge graph: g.simplify()\\n# to check if the graph is simple or not: g.is_simple()\\nsummary(giant_component_undir, verbosity = 1, edge_list_format = \"edgelist\", max_rows = 25)\\n\\n# the maximum degree, and the ID of the node with maximum degree\\ndegree_sequence_undir = giant_component_undir.degree()\\nmax(degree_sequence_undir)\\nid_max_u = np.argmax(degree_sequence_undir)\\nid_max_u\\n\\n# the set of neighbours of the node with max degree\\nneighbours_of_major_node_undir = giant_component_undir.neighbors(id_max_u)\\nlen(neighbours_of_major_node_undir)\\n\\n# the set of nodes reachable from id_max with AT MOST 1 jump\\nneighbours_order_1 = giant_component_undir.neighborhood(id_max, order = 1, mode=\"all\")\\nneighbours_order_1[0:19]\\n\\n# the number of such nodes\\n# - NB: it also includes the node id_max itself (which is reachable with 0 jumps)\\n# - thus, the number of nodes reachable with one jump is this - 1\\nlen(neighbours_order_1)\\ngiant_component_undir.neighborhood_size(id_max, order = 1, mode=\"all\")\\n'"
      ]
     },
     "execution_count": 50,
     "metadata": {},
     "output_type": "execute_result"
    }
   ],
   "source": [
    "\"\"\"# take the undirected version of the Giant Component \n",
    "# combine_edges tells what to do with the weights (default, lost attribute; here: sum values)\n",
    "giant_component_undir = giant_component.as_undirected(combine_edges = \"sum\")\n",
    "\n",
    "# Note the lower number of edges with respect to the directed version.\n",
    "# This is because igraph automatically simplifies the graph (i.e., merges edges between the same nodes)\n",
    "# to do so manually on a multi-edge graph: g.simplify()\n",
    "# to check if the graph is simple or not: g.is_simple()\n",
    "summary(giant_component_undir, verbosity = 1, edge_list_format = \"edgelist\", max_rows = 25)\n",
    "\n",
    "# the maximum degree, and the ID of the node with maximum degree\n",
    "degree_sequence_undir = giant_component_undir.degree()\n",
    "max(degree_sequence_undir)\n",
    "id_max_u = np.argmax(degree_sequence_undir)\n",
    "id_max_u\n",
    "\n",
    "# the set of neighbours of the node with max degree\n",
    "neighbours_of_major_node_undir = giant_component_undir.neighbors(id_max_u)\n",
    "len(neighbours_of_major_node_undir)\n",
    "\n",
    "# the set of nodes reachable from id_max with AT MOST 1 jump\n",
    "neighbours_order_1 = giant_component_undir.neighborhood(id_max, order = 1, mode=\"all\")\n",
    "neighbours_order_1[0:19]\n",
    "\n",
    "# the number of such nodes\n",
    "# - NB: it also includes the node id_max itself (which is reachable with 0 jumps)\n",
    "# - thus, the number of nodes reachable with one jump is this - 1\n",
    "len(neighbours_order_1)\n",
    "giant_component_undir.neighborhood_size(id_max, order = 1, mode=\"all\")\n",
    "\"\"\""
   ]
  },
  {
   "cell_type": "markdown",
   "metadata": {},
   "source": [
    "### Degree density and CCDF"
   ]
  },
  {
   "cell_type": "code",
   "execution_count": 53,
   "metadata": {},
   "outputs": [
    {
     "data": {
      "image/png": "[encoded data removed]",
      "text/plain": [
       "<Figure size 432x288 with 1 Axes>"
      ]
     },
     "metadata": {
      "needs_background": "light"
     },
     "output_type": "display_data"
    }
   ],
   "source": [
    "dd_h, dd_h_bins, _ = plt.hist(degree_sequnce, bins=range(1,max(degree_sequnce)+2), density=True, color = 'red')"
   ]
  },
  {
   "cell_type": "code",
   "execution_count": 54,
   "metadata": {},
   "outputs": [
    {
     "data": {
      "text/plain": [
       "[<matplotlib.lines.Line2D at 0x7f2e4c2e8bd0>]"
      ]
     },
     "execution_count": 54,
     "metadata": {},
     "output_type": "execute_result"
    },
    {
     "data": {
      "text/plain": [
       "Text(0.5, 0, 'd')"
      ]
     },
     "execution_count": 54,
     "metadata": {},
     "output_type": "execute_result"
    },
    {
     "data": {
      "text/plain": [
       "Text(0, 0.5, 'P(Degree = d)')"
      ]
     },
     "execution_count": 54,
     "metadata": {},
     "output_type": "execute_result"
    },
    {
     "data": {
      "text/plain": [
       "Text(0.5, 1.0, 'Degree density on a log-log scale')"
      ]
     },
     "execution_count": 54,
     "metadata": {},
     "output_type": "execute_result"
    },
    {
     "data": {
      "image/png": "[encoded data removed]",
      "text/plain": [
       "<Figure size 432x288 with 1 Axes>"
      ]
     },
     "metadata": {
      "needs_background": "light"
     },
     "output_type": "display_data"
    }
   ],
   "source": [
    "# Degree density on a loglog scale\n",
    "plt.loglog(dd_h_bins[:-1], dd_h, 'bo')\n",
    "plt.xlabel(\"d\")\n",
    "plt.ylabel(\"P(Degree = d)\")\n",
    "plt.title(\"Degree density on a log-log scale\")"
   ]
  },
  {
   "cell_type": "code",
   "execution_count": 59,
   "metadata": {},
   "outputs": [
    {
     "data": {
      "text/plain": [
       "[0, 400, 0, 1]"
      ]
     },
     "execution_count": 59,
     "metadata": {},
     "output_type": "execute_result"
    },
    {
     "data": {
      "text/plain": [
       "Text(0.5, 0, 'd')"
      ]
     },
     "execution_count": 59,
     "metadata": {},
     "output_type": "execute_result"
    },
    {
     "data": {
      "text/plain": [
       "Text(0, 0.5, 'CCDF(Degree > d)')"
      ]
     },
     "execution_count": 59,
     "metadata": {},
     "output_type": "execute_result"
    },
    {
     "data": {
      "text/plain": [
       "Text(0.5, 1.0, 'CCDF primo metodo')"
      ]
     },
     "execution_count": 59,
     "metadata": {},
     "output_type": "execute_result"
    },
    {
     "data": {
      "image/png": "[encoded data removed]",
      "text/plain": [
       "<Figure size 432x288 with 1 Axes>"
      ]
     },
     "metadata": {
      "needs_background": "light"
     },
     "output_type": "display_data"
    }
   ],
   "source": [
    "# Compute the CCDF - we can use 2 ways\n",
    "# 1. use the histogram functions with parameter cumulative=-1 gives the CCDF\n",
    "dd_h, dd_h_bins, _ = plt.hist(degree_sequnce, bins=range(1,max(degree_sequnce)+2), density = True, color = 'red', cumulative = -1)\n",
    "plt.axis([0,400,0,1])\n",
    "plt.xlabel(\"d\")\n",
    "plt.ylabel(\"CCDF(Degree > d)\")\n",
    "plt.title(\"CCDF primo metodo\")"
   ]
  },
  {
   "cell_type": "code",
   "execution_count": 61,
   "metadata": {
    "scrolled": true
   },
   "outputs": [
    {
     "data": {
      "text/plain": [
       "[<matplotlib.lines.Line2D at 0x7f2e4981cbd0>]"
      ]
     },
     "execution_count": 61,
     "metadata": {},
     "output_type": "execute_result"
    },
    {
     "data": {
      "text/plain": [
       "Text(0.5, 0, '$d$')"
      ]
     },
     "execution_count": 61,
     "metadata": {},
     "output_type": "execute_result"
    },
    {
     "data": {
      "text/plain": [
       "Text(0, 0.5, '$P(D>d)$')"
      ]
     },
     "execution_count": 61,
     "metadata": {},
     "output_type": "execute_result"
    },
    {
     "data": {
      "text/plain": [
       "Text(0.5, 1.0, 'Degree CCDF in a lin-lin scale')"
      ]
     },
     "execution_count": 61,
     "metadata": {},
     "output_type": "execute_result"
    },
    {
     "data": {
      "text/plain": [
       "[<matplotlib.lines.Line2D at 0x7f2e4c578e90>]"
      ]
     },
     "execution_count": 61,
     "metadata": {},
     "output_type": "execute_result"
    },
    {
     "data": {
      "text/plain": [
       "Text(0.5, 0, '$d$')"
      ]
     },
     "execution_count": 61,
     "metadata": {},
     "output_type": "execute_result"
    },
    {
     "data": {
      "text/plain": [
       "Text(0, 0.5, '$P(D>d)$')"
      ]
     },
     "execution_count": 61,
     "metadata": {},
     "output_type": "execute_result"
    },
    {
     "data": {
      "text/plain": [
       "Text(0.5, 1.0, 'Degree CCDF in a log-log scale')"
      ]
     },
     "execution_count": 61,
     "metadata": {},
     "output_type": "execute_result"
    },
    {
     "data": {
      "image/png": "[encoded data removed]",
      "text/plain": [
       "<Figure size 864x288 with 2 Axes>"
      ]
     },
     "metadata": {
      "needs_background": "light"
     },
     "output_type": "display_data"
    }
   ],
   "source": [
    "# 2. More general: use the ECDF function of statsmodels.distributions.empirical_distribution\n",
    "# ECDF(dataset) returns a the empirical CDF computed from the dataset, which can be used as a FUNCTION\n",
    "# - i.e., it is possible to call ECDF(x) for any x, irrespective of the set of data from which the ECDF is derived\n",
    "deg_cdf = ECDF(degree_sequnce)\n",
    "\n",
    "# scale the fig size twice in length\n",
    "default_sizes = plt.rcParams[\"figure.figsize\"]\n",
    "fig_sizes = (2*default_sizes[0], default_sizes[1])\n",
    "\n",
    "# generate a figure with 2 subplots, organised in 1 row and 2 columns\n",
    "# ax1 and ax2 (\"axes\") are used to access the individual plots\n",
    "fig, (ax1, ax2) = plt.subplots(1, 2, figsize = fig_sizes)\n",
    "\n",
    "# plot the CCDF in lin-lin and log-log scales\n",
    "# see http://matplotlib.org/api/axes_api.html for the API of the Axis class\n",
    "# see http://matplotlib.org/api/pyplot_api.html#matplotlib.pyplot.plot or the Axes.plot() documentation\n",
    "# for the parameters of the plot method\n",
    "degs = np.arange(1,max(degree_sequnce)+1)\n",
    "\n",
    "ax1.plot(degs, 1-deg_cdf(degs), 'bo')\n",
    "ax1.set_xlabel(\"$d$\")\n",
    "ax1.set_ylabel(\"$P(D>d)$\")\n",
    "ax1.set_title(\"Degree CCDF in a lin-lin scale\")\n",
    "\n",
    "ax2.loglog(degs, 1-deg_cdf(degs), 'bo')\n",
    "ax2.set_xlabel(\"$d$\")\n",
    "ax2.set_ylabel(\"$P(D>d)$\")\n",
    "ax2.set_title(\"Degree CCDF in a log-log scale\")"
   ]
  },
  {
   "cell_type": "markdown",
   "metadata": {},
   "source": [
    "### Random graphs - Erdős–Rényi model"
   ]
  },
  {
   "cell_type": "code",
   "execution_count": 67,
   "metadata": {},
   "outputs": [
    {
     "name": "stdout",
     "output_type": "stream",
     "text": [
      "Il GC del modello di Erdos Renyl ha un numero di nodi  10000  minore o uguale del nostro grafo 10000\n"
     ]
    },
    {
     "data": {
      "image/png": "[encoded data removed]",
      "text/plain": [
       "<Figure size 864x576 with 3 Axes>"
      ]
     },
     "metadata": {
      "needs_background": "light"
     },
     "output_type": "display_data"
    }
   ],
   "source": [
    "# Now we compare the degree distributions for the complete Giant Component\n",
    "er_p_GC = mean(giant_component_undir.degree())/giant_component_undir.vcount()\n",
    "er_fb_all = Graph.Erdos_Renyi(giant_component_undir.vcount(), er_p_GC)\n",
    "\n",
    "# take only the Giant Component\n",
    "er_fb = er_fb_all.clusters(mode = \"WEAK\").giant()\n",
    "print (\"Il GC del modello di Erdos Renyl ha un numero di nodi \",er_fb.vcount(),\" minore o uguale del nostro grafo\", giant_component_undir.vcount())\n",
    "\n",
    "# we use GridSpecs for a finer control of the plot positioning\n",
    "fig_sizes = (fig_sizes[0], 2*default_sizes[1])\n",
    "f = plt.figure(figsize = fig_sizes)\n",
    "\n",
    "# create a 2x2 Grid Specification\n",
    "gs = gridspec.GridSpec(2, 2)\n",
    "\n",
    "# add subplots to the figure, using the GridSpec gs\n",
    "# position [0,0] (upper-left corner)\n",
    "ax1 = plt.subplot(gs[0,0])\n",
    "ax2 = plt.subplot(gs[0,1])\n",
    "# the third plot spans the entire second row\n",
    "ax3 = plt.subplot(gs[1,:])\n",
    "\n",
    "# compute and plot the histogram of FB degrees\n",
    "d_fb = giant_component_undir.degree()\n",
    "_,_,_ = ax1.hist(d_fb, bins=range(1,max(d_fb)+2), density = True, color = 'red')\n",
    "_ = ax1.set_xlim(0,80)\n",
    "_ = ax1.set_xlabel(\"$d$\")\n",
    "_ = ax1.set_ylabel(\"Frequencies\")\n",
    "_ = ax1.set_title(\"Histogram of FB degrees\")\n",
    "\n",
    "# compute and plot the histogram of ER degrees\n",
    "d_er = er_fb.degree()\n",
    "_,_,_ = ax2.hist(d_er, bins=range(1,max(d_er)+2), density = True, color = 'blue')\n",
    "_ = ax2.set_xlim(0,80)\n",
    "_ = ax2.set_xlabel(\"$d$\")\n",
    "_ = ax2.set_ylabel(\"Frequencies\")\n",
    "_ = ax2.set_title(\"Histogram of ER degrees\")\n",
    "\n",
    "# compute and plot the degree CCDFs\n",
    "fb_ecdf = ECDF(d_fb)\n",
    "er_ecdf = ECDF(d_er)\n",
    "x = np.arange(1,max(d_fb)+1)\n",
    "_ = ax3.loglog(x, 1-fb_ecdf(x), 'ro', label = 'Facebook')\n",
    "x = np.arange(1,max(d_er)+1)\n",
    "_ = ax3.loglog(x, 1-er_ecdf(x), 'bo', label = 'Erdos-Renyi')\n",
    "_ = ax3.set_xlabel(\"$d$\")\n",
    "_ = ax3.set_ylabel(\"$P(D>d)$\")\n",
    "_ = ax3.set_title(\"Comparison between degree CCDFs\")\n",
    "_ = ax3.legend(numpoints = 1)"
   ]
  },
  {
   "cell_type": "code",
   "execution_count": null,
   "metadata": {},
   "outputs": [],
   "source": []
  }
 ],
 "metadata": {
  "kernelspec": {
   "display_name": "Python 3",
   "language": "python",
   "name": "python3"
  },
  "language_info": {
   "codemirror_mode": {
    "name": "ipython",
    "version": 3
   },
   "file_extension": ".py",
   "mimetype": "text/x-python",
   "name": "python",
   "nbconvert_exporter": "python",
   "pygments_lexer": "ipython3",
   "version": "3.7.6"
  }
 },
 "nbformat": 4,
 "nbformat_minor": 4
}
