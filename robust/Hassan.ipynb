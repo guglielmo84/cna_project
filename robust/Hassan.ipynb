{
 "cells": [
  {
   "cell_type": "markdown",
   "metadata": {},
   "source": [
    "# Hassan - This is my trial project"
   ]
  },
  {
   "cell_type": "markdown",
   "metadata": {},
   "source": [
    "Load the igraph library"
   ]
  },
  {
   "cell_type": "code",
   "execution_count": 18,
   "metadata": {},
   "outputs": [],
   "source": [
    "# interactive plots in Jupyter, used to show plots inline in the notebook\n",
    "%matplotlib inline\n",
    "\n",
    "# The igraph library\n",
    "from igraph import *\n",
    "\n",
    "# Numpy for enhanced math array management\n",
    "import numpy as np\n",
    "\n",
    "# statistical tools (we only use ECDF)\n",
    "from statsmodels.distributions.empirical_distribution import ECDF\n",
    "\n",
    "# Mathematical plotting\n",
    "import matplotlib.pyplot as plt\n",
    "import matplotlib.gridspec as gridspec\n",
    "\n",
    "# use to control whether to show the entire cell output or only the last_expr (default)\n",
    "from IPython.core.interactiveshell import InteractiveShell\n",
    "InteractiveShell.ast_node_interactivity = \"all\"\n",
    "\n",
    "# to generate random numbers\n",
    "from random import *\n",
    "\n",
    "# to fit power law distributions\n",
    "from powerlaw import *"
   ]
  },
  {
   "cell_type": "markdown",
   "metadata": {},
   "source": [
    "# Summary of the dataset\n",
    "\n",
    "<br/>the graph is directed\n",
    "<br/>if vertices have a name\n",
    "<br/>if edges are not weighted \n",
    "<br/>if the graph is not bipartite\n",
    "\n",
    "<br/>the number of nodes: 63731\n",
    "<br/>the number of edges: 1269502"
   ]
  },
  {
   "cell_type": "code",
   "execution_count": 24,
   "metadata": {},
   "outputs": [
    {
     "name": "stdout",
     "output_type": "stream",
     "text": [
      "IGRAPH DN-- 63731 1269502 -- \n",
      "+ attr: name (v)\n",
      "+ edges (vertex names):\n",
      "       edge \n",
      "[0]    1->2 \n",
      "[1]    1->2 \n",
      "[2]    1->3 \n",
      "[3]    1->4 \n",
      "[4]    1->4 \n",
      "[5]    1->5 \n",
      "[6]    1->6 \n",
      "[7]    1->7 \n",
      "[8]    1->8 \n",
      "[9]    1->9 \n",
      "[10]   1->9 \n",
      "[11]   1->10\n",
      "[12]   1->11\n",
      "[13]   1->12\n",
      "[14]   1->13\n",
      "[15]   1->13\n",
      "[16]   1->14\n",
      "[17]   1->15\n",
      "[18]   1->16\n",
      "[19]   1->16\n",
      "[20]   1->17\n",
      "[21]   1->17\n",
      "[22]   1->18\n",
      "[23]   1->18\n",
      "[24]   1->19\n"
     ]
    }
   ],
   "source": [
    "fb_g = read(\"dataset/socfb-wosn-friends.cut.edges\", format = \"ncol\", directed = True)\n",
    "summary(fb_g, verbosity=1, max_rows = 25, edge_list_format = 'edgelist')"
   ]
  },
  {
   "cell_type": "code",
   "execution_count": 63,
   "metadata": {},
   "outputs": [
    {
     "name": "stdout",
     "output_type": "stream",
     "text": [
      "Giant Component characteristics:\n",
      "Is connected?: False\n",
      "Number of clusters: 144\n",
      "Number of vertices[63392, 2, 2, 2, 2, 2, 2, 2, 2, 2, 2, 2, 3, 2, 3, 3, 5, 2, 2, 2, 2, 3, 2, 2, 3, 2, 2, 2, 2, 2, 2, 11, 4, 2, 2, 2, 3, 3, 2, 2, 2, 2, 2, 2, 3, 3, 2, 2, 3, 3, 2, 2, 3, 3, 2, 2, 3, 2, 2, 3, 2, 2, 3, 2, 2, 2, 2, 5, 2, 2, 2, 3, 2, 2, 4, 2, 3, 2, 2, 2, 2, 2, 2, 4, 2, 2, 2, 2, 2, 3, 2, 3, 2, 2, 2, 3, 3, 3, 5, 2, 2, 2, 2, 2, 3, 2, 2, 4, 2, 2, 3, 2, 2, 2, 2, 2, 2, 2, 2, 3, 2, 2, 3, 2, 2, 2, 2, 2, 2, 2, 2, 2, 2, 2, 2, 2, 2, 2, 2, 2, 2, 2, 2, 2]\n",
      "IGRAPH UN-- 63392 1269230 -- \n",
      "+ attr: name (v)\n",
      "+ edges (vertex names):\n",
      "       edge \n",
      "[0]    1--2 \n",
      "[1]    1--2 \n",
      "[2]    1--3 \n",
      "[3]    1--4 \n",
      "[4]    1--4 \n",
      "[5]    1--5 \n",
      "[6]    1--6 \n",
      "[7]    1--7 \n",
      "[8]    1--8 \n",
      "[9]    1--9 \n",
      "[10]   1--9 \n",
      "[11]   1--10\n",
      "[12]   1--11\n",
      "[13]   1--12\n",
      "[14]   1--13\n",
      "[15]   1--13\n",
      "[16]   1--14\n",
      "[17]   1--15\n",
      "[18]   1--16\n",
      "[19]   1--16\n"
     ]
    }
   ],
   "source": [
    "# weakly connected components means that it is sufficient that nodes are connected via a unidirected path\n",
    "# strongly connected components means that nodes must be mutually connected via two unidirected paths\n",
    "fg_clust = fb_g.clusters(mode='WEAK')\n",
    "\n",
    "print(\"Giant Component characteristics:\")\n",
    "print(\"Is connected?: \"+str(fb_g.is_connected(mode = \"WEAK\")))\n",
    "\n",
    "print(\"Number of clusters: \"+str(len(fg_clust)))\n",
    "\n",
    "print(\"The sizes of the clusters:\"+str(fg_clust.sizes()))\n",
    "\n",
    "fb_GC = fg_clust.giant()\n",
    "\n",
    "summary(fb_GC, verbosity = 1, edge_list_format = \"edgelist\", max_rows = 20)\n"
   ]
  },
  {
   "cell_type": "code",
   "execution_count": 64,
   "metadata": {},
   "outputs": [
    {
     "data": {
      "text/plain": [
       "[39, 43, 34, 15, 43, 40, 50, 18, 378, 5, 46, 27, 67, 441, 199, 54, 46, 53, 53]"
      ]
     },
     "execution_count": 64,
     "metadata": {},
     "output_type": "execute_result"
    },
    {
     "data": {
      "text/plain": [
       "1826"
      ]
     },
     "execution_count": 64,
     "metadata": {},
     "output_type": "execute_result"
    },
    {
     "data": {
      "text/plain": [
       "839"
      ]
     },
     "execution_count": 64,
     "metadata": {},
     "output_type": "execute_result"
    },
    {
     "data": {
      "text/plain": [
       "1826"
      ]
     },
     "execution_count": 64,
     "metadata": {},
     "output_type": "execute_result"
    },
    {
     "data": {
      "text/plain": [
       "[839,\n",
       " 17,\n",
       " 22,\n",
       " 68,\n",
       " 75,\n",
       " 130,\n",
       " 134,\n",
       " 140,\n",
       " 144,\n",
       " 145,\n",
       " 159,\n",
       " 175,\n",
       " 192,\n",
       " 193,\n",
       " 199,\n",
       " 211,\n",
       " 213,\n",
       " 214,\n",
       " 215]"
      ]
     },
     "execution_count": 64,
     "metadata": {},
     "output_type": "execute_result"
    },
    {
     "data": {
      "text/plain": [
       "1099"
      ]
     },
     "execution_count": 64,
     "metadata": {},
     "output_type": "execute_result"
    },
    {
     "data": {
      "text/plain": [
       "1099"
      ]
     },
     "execution_count": 64,
     "metadata": {},
     "output_type": "execute_result"
    }
   ],
   "source": [
    "# degree() method\n",
    "# - mode = \"ALL\" to consider the undirected graph\n",
    "fb_deg = fb_GC.degree(mode = \"all\")\n",
    "fb_deg[0:19]\n",
    "\n",
    "# the maximum degree, and the ID of the node with maximum degree\n",
    "max(fb_deg)\n",
    "id_max = np.argmax(fb_deg)\n",
    "id_max\n",
    "\n",
    "# the set of neighbours of the node with max degree\n",
    "# - NB: in case of bidirectional links, the same neighbour is counted twice if mode = 'all'\n",
    "nei = fb_GC.neighbors(id_max, mode=\"all\")\n",
    "len(nei)\n",
    "\n",
    "# the set of nodes reachable from id_max with AT MOST 1 jump\n",
    "neighbours = fb_GC.neighborhood(id_max, order = 1, mode=\"all\")\n",
    "neighbours[0:19]\n",
    "\n",
    "# the number of such nodes\n",
    "# - NB: it also includes the node id_max itself (which is reachable with 0 jumps)\n",
    "# - thus, the number of nodes reachable with one jump is this - 1\n",
    "len(neighbours)\n",
    "fb_GC.neighborhood_size(id_max, order = 1, mode=\"all\")"
   ]
  },
  {
   "cell_type": "code",
   "execution_count": 65,
   "metadata": {},
   "outputs": [
    {
     "name": "stdout",
     "output_type": "stream",
     "text": [
      "IGRAPH UN-- 63392 1269230 -- \n",
      "+ attr: name (v)\n",
      "+ edges (vertex names):\n",
      "       edge \n",
      "[0]    1--2 \n",
      "[1]    1--2 \n",
      "[2]    1--3 \n",
      "[3]    1--4 \n",
      "[4]    1--4 \n",
      "[5]    1--5 \n",
      "[6]    1--6 \n",
      "[7]    1--7 \n",
      "[8]    1--8 \n",
      "[9]    1--9 \n",
      "[10]   1--9 \n",
      "[11]   1--10\n",
      "[12]   1--11\n",
      "[13]   1--12\n",
      "[14]   1--13\n",
      "[15]   1--13\n",
      "[16]   1--14\n",
      "[17]   1--15\n",
      "[18]   1--16\n",
      "[19]   1--16\n",
      "[20]   1--17\n",
      "[21]   1--17\n",
      "[22]   1--18\n",
      "[23]   1--18\n",
      "[24]   1--19\n"
     ]
    },
    {
     "data": {
      "text/plain": [
       "1826"
      ]
     },
     "execution_count": 65,
     "metadata": {},
     "output_type": "execute_result"
    },
    {
     "data": {
      "text/plain": [
       "839"
      ]
     },
     "execution_count": 65,
     "metadata": {},
     "output_type": "execute_result"
    },
    {
     "data": {
      "text/plain": [
       "1826"
      ]
     },
     "execution_count": 65,
     "metadata": {},
     "output_type": "execute_result"
    },
    {
     "data": {
      "text/plain": [
       "[839,\n",
       " 17,\n",
       " 22,\n",
       " 68,\n",
       " 75,\n",
       " 130,\n",
       " 134,\n",
       " 140,\n",
       " 144,\n",
       " 145,\n",
       " 159,\n",
       " 175,\n",
       " 192,\n",
       " 193,\n",
       " 199,\n",
       " 211,\n",
       " 213,\n",
       " 214,\n",
       " 215]"
      ]
     },
     "execution_count": 65,
     "metadata": {},
     "output_type": "execute_result"
    },
    {
     "data": {
      "text/plain": [
       "1099"
      ]
     },
     "execution_count": 65,
     "metadata": {},
     "output_type": "execute_result"
    },
    {
     "data": {
      "text/plain": [
       "1099"
      ]
     },
     "execution_count": 65,
     "metadata": {},
     "output_type": "execute_result"
    }
   ],
   "source": [
    "# take the undirected version of the Giant Component \n",
    "# combine_edges tells what to do with the weights (default, lost attribute; here: sum values)\n",
    "fb_GC_u = fb_GC.as_undirected(combine_edges = \"sum\")\n",
    "\n",
    "# Note the lower number of edges with respect to the directed version.\n",
    "# This is because igraph automatically simplifies the graph (i.e., merges edges between the same nodes)\n",
    "# to do so manually on a multi-edge graph: g.simplify()\n",
    "# to check if the graph is simple or not: g.is_simple()\n",
    "summary(fb_GC_u, verbosity = 1, edge_list_format = \"edgelist\", max_rows = 25)\n",
    "\n",
    "# the maximum degree, and the ID of the node with maximum degree\n",
    "fb_deg_u = fb_GC_u.degree()\n",
    "max(fb_deg_u)\n",
    "id_max_u = np.argmax(fb_deg_u)\n",
    "id_max_u\n",
    "\n",
    "# the set of neighbours of the node with max degree\n",
    "nei_u = fb_GC_u.neighbors(id_max_u)\n",
    "len(nei_u)\n",
    "\n",
    "# the set of nodes reachable from id_max with AT MOST 1 jump\n",
    "neighbours = fb_GC_u.neighborhood(id_max, order = 1, mode=\"all\")\n",
    "neighbours[0:19]\n",
    "\n",
    "# the number of such nodes\n",
    "# - NB: it also includes the node id_max itself (which is reachable with 0 jumps)\n",
    "# - thus, the number of nodes reachable with one jump is this - 1\n",
    "len(neighbours)\n",
    "fb_GC_u.neighborhood_size(id_max, order = 1, mode=\"all\")"
   ]
  },
  {
   "cell_type": "code",
   "execution_count": 66,
   "metadata": {},
   "outputs": [
    {
     "data": {
      "image/png": "[encoded data removed]",
      "text/plain": [
       "<Figure size 432x288 with 1 Axes>"
      ]
     },
     "metadata": {
      "needs_background": "light"
     },
     "output_type": "display_data"
    }
   ],
   "source": [
    "dd_h, dd_h_bins, _ = plt.hist(fb_deg, bins=range(1,max(fb_deg)+2), density=True, color = 'red')"
   ]
  },
  {
   "cell_type": "code",
   "execution_count": 68,
   "metadata": {},
   "outputs": [
    {
     "data": {
      "text/plain": [
       "[0, 500, 0, 0.04]"
      ]
     },
     "execution_count": 68,
     "metadata": {},
     "output_type": "execute_result"
    },
    {
     "data": {
      "image/png": "[encoded data removed]",
      "text/plain": [
       "<Figure size 432x288 with 1 Axes>"
      ]
     },
     "metadata": {
      "needs_background": "light"
     },
     "output_type": "display_data"
    }
   ],
   "source": [
    "dd_h, dd_h_bins, _ = plt.hist(fb_deg, bins=range(1,max(fb_deg)+2), density = True, color = 'red')\n",
    "plt.axis([0,500,0,0.04])"
   ]
  },
  {
   "cell_type": "code",
   "execution_count": 69,
   "metadata": {},
   "outputs": [
    {
     "data": {
      "text/plain": [
       "[<matplotlib.lines.Line2D at 0x7f21aaadee90>]"
      ]
     },
     "execution_count": 69,
     "metadata": {},
     "output_type": "execute_result"
    },
    {
     "data": {
      "text/plain": [
       "Text(0.5, 0, 'd')"
      ]
     },
     "execution_count": 69,
     "metadata": {},
     "output_type": "execute_result"
    },
    {
     "data": {
      "text/plain": [
       "Text(0, 0.5, 'P(Degree = d)')"
      ]
     },
     "execution_count": 69,
     "metadata": {},
     "output_type": "execute_result"
    },
    {
     "data": {
      "text/plain": [
       "Text(0.5, 1.0, 'Degree density on a log-log scale')"
      ]
     },
     "execution_count": 69,
     "metadata": {},
     "output_type": "execute_result"
    },
    {
     "data": {
      "image/png": "[encoded data removed]",
      "text/plain": [
       "<Figure size 432x288 with 1 Axes>"
      ]
     },
     "metadata": {
      "needs_background": "light"
     },
     "output_type": "display_data"
    }
   ],
   "source": [
    "# Degree density on a loglog scale\n",
    "plt.loglog(dd_h_bins[:-1], dd_h, 'bo')\n",
    "plt.xlabel(\"d\")\n",
    "plt.ylabel(\"P(Degree = d)\")\n",
    "plt.title(\"Degree density on a log-log scale\")"
   ]
  },
  {
   "cell_type": "code",
   "execution_count": 70,
   "metadata": {},
   "outputs": [
    {
     "data": {
      "text/plain": [
       "[0, 100, 0, 1]"
      ]
     },
     "execution_count": 70,
     "metadata": {},
     "output_type": "execute_result"
    },
    {
     "data": {
      "image/png": "[encoded data removed]",
      "text/plain": [
       "<Figure size 432x288 with 1 Axes>"
      ]
     },
     "metadata": {
      "needs_background": "light"
     },
     "output_type": "display_data"
    }
   ],
   "source": [
    "# Compute the CCDF - we can use 2 ways\n",
    "# 1. use the histogram functions with parameter cumulative=-1 gives the CCDF\n",
    "dd_h, dd_h_bins, _ = plt.hist(fb_deg, bins=range(1,max(fb_deg)+2), density = True, color = 'red', cumulative = -1)\n",
    "plt.axis([0,100,0,1])"
   ]
  },
  {
   "cell_type": "code",
   "execution_count": 71,
   "metadata": {},
   "outputs": [
    {
     "data": {
      "text/plain": [
       "[<matplotlib.lines.Line2D at 0x7f21a8de3790>]"
      ]
     },
     "execution_count": 71,
     "metadata": {},
     "output_type": "execute_result"
    },
    {
     "data": {
      "text/plain": [
       "Text(0.5, 0, '$d$')"
      ]
     },
     "execution_count": 71,
     "metadata": {},
     "output_type": "execute_result"
    },
    {
     "data": {
      "text/plain": [
       "Text(0, 0.5, '$P(D>d)$')"
      ]
     },
     "execution_count": 71,
     "metadata": {},
     "output_type": "execute_result"
    },
    {
     "data": {
      "text/plain": [
       "Text(0.5, 1.0, 'Degree CCDF in a lin-lin scale')"
      ]
     },
     "execution_count": 71,
     "metadata": {},
     "output_type": "execute_result"
    },
    {
     "data": {
      "text/plain": [
       "[<matplotlib.lines.Line2D at 0x7f21a8e21150>]"
      ]
     },
     "execution_count": 71,
     "metadata": {},
     "output_type": "execute_result"
    },
    {
     "data": {
      "text/plain": [
       "Text(0.5, 0, '$d$')"
      ]
     },
     "execution_count": 71,
     "metadata": {},
     "output_type": "execute_result"
    },
    {
     "data": {
      "text/plain": [
       "Text(0, 0.5, '$P(D>d)$')"
      ]
     },
     "execution_count": 71,
     "metadata": {},
     "output_type": "execute_result"
    },
    {
     "data": {
      "text/plain": [
       "Text(0.5, 1.0, 'Degree CCDF in a log-log scale')"
      ]
     },
     "execution_count": 71,
     "metadata": {},
     "output_type": "execute_result"
    },
    {
     "data": {
      "image/png": "[encoded data removed]",
      "text/plain": [
       "<Figure size 864x288 with 2 Axes>"
      ]
     },
     "metadata": {
      "needs_background": "light"
     },
     "output_type": "display_data"
    }
   ],
   "source": [
    "# 2. More general: use the ECDF function of statsmodels.distributions.empirical_distribution\n",
    "# ECDF(dataset) returns a the empirical CDF computed from the dataset, which can be used as a FUNCTION\n",
    "# - i.e., it is possible to call ECDF(x) for any x, irrespective of the set of data from which the ECDF is derived\n",
    "deg_cdf = ECDF(fb_deg)\n",
    "\n",
    "# scale the fig size twice in length\n",
    "default_sizes = plt.rcParams[\"figure.figsize\"]\n",
    "fig_sizes = (2*default_sizes[0], default_sizes[1])\n",
    "\n",
    "# generate a figure with 2 subplots, organised in 1 row and 2 columns\n",
    "# ax1 and ax2 (\"axes\") are used to access the individual plots\n",
    "fig, (ax1, ax2) = plt.subplots(1, 2, figsize = fig_sizes)\n",
    "\n",
    "# plot the CCDF in lin-lin and log-log scales\n",
    "# see http://matplotlib.org/api/axes_api.html for the API of the Axis class\n",
    "# see http://matplotlib.org/api/pyplot_api.html#matplotlib.pyplot.plot or the Axes.plot() documentation\n",
    "# for the parameters of the plot method\n",
    "degs = np.arange(1,max(fb_deg)+1)\n",
    "\n",
    "ax1.plot(degs, 1-deg_cdf(degs), 'bo')\n",
    "ax1.set_xlabel(\"$d$\")\n",
    "ax1.set_ylabel(\"$P(D>d)$\")\n",
    "ax1.set_title(\"Degree CCDF in a lin-lin scale\")\n",
    "\n",
    "ax2.loglog(degs, 1-deg_cdf(degs), 'bo')\n",
    "ax2.set_xlabel(\"$d$\")\n",
    "ax2.set_ylabel(\"$P(D>d)$\")\n",
    "ax2.set_title(\"Degree CCDF in a log-log scale\")"
   ]
  },
  {
   "cell_type": "code",
   "execution_count": 72,
   "metadata": {},
   "outputs": [
    {
     "data": {
      "image/png": "[encoded data removed]",
      "text/plain": [
       "<Figure size 432x288 with 1 Axes>"
      ]
     },
     "metadata": {
      "needs_background": "light"
     },
     "output_type": "display_data"
    }
   ],
   "source": [
    "_ = plt.loglog(degs, 1-deg_cdf(degs), 'bo')\n",
    "_ = plt.xlabel(\"$d$\")\n",
    "_ = plt.ylabel(\"$P(D>d)$\")\n",
    "_ = plt.title(\"Degree CCDF in a log-log scale\")"
   ]
  },
  {
   "cell_type": "code",
   "execution_count": 73,
   "metadata": {},
   "outputs": [
    {
     "data": {
      "text/plain": [
       "0.16357190892200563"
      ]
     },
     "execution_count": 73,
     "metadata": {},
     "output_type": "execute_result"
    },
    {
     "ename": "InternalError",
     "evalue": "Error at /project/vendor/source/igraph/src/structural_properties.c:6084: Average nearest neighbor degree works only with simple graphs, Invalid value",
     "output_type": "error",
     "traceback": [
      "\u001b[0;31m---------------------------------------------------------------------------\u001b[0m",
      "\u001b[0;31mInternalError\u001b[0m                             Traceback (most recent call last)",
      "\u001b[0;32m<ipython-input-73-ebc75675d05a>\u001b[0m in \u001b[0;36m<module>\u001b[0;34m\u001b[0m\n\u001b[1;32m      5\u001b[0m \u001b[0;31m# - the list of average degrees for each node (knn)\u001b[0m\u001b[0;34m\u001b[0m\u001b[0;34m\u001b[0m\u001b[0;34m\u001b[0m\u001b[0m\n\u001b[1;32m      6\u001b[0m \u001b[0;31m# - the list of average degrees for each degree (knnk)\u001b[0m\u001b[0;34m\u001b[0m\u001b[0;34m\u001b[0m\u001b[0;34m\u001b[0m\u001b[0m\n\u001b[0;32m----> 7\u001b[0;31m \u001b[0mfb_knn\u001b[0m\u001b[0;34m,\u001b[0m \u001b[0mfb_knnk\u001b[0m \u001b[0;34m=\u001b[0m \u001b[0mfb_GC_u\u001b[0m\u001b[0;34m.\u001b[0m\u001b[0mknn\u001b[0m\u001b[0;34m(\u001b[0m\u001b[0;34m)\u001b[0m\u001b[0;34m\u001b[0m\u001b[0;34m\u001b[0m\u001b[0m\n\u001b[0m\u001b[1;32m      8\u001b[0m \u001b[0;34m\u001b[0m\u001b[0m\n\u001b[1;32m      9\u001b[0m \u001b[0mfig\u001b[0m\u001b[0;34m,\u001b[0m \u001b[0;34m(\u001b[0m\u001b[0max1\u001b[0m\u001b[0;34m,\u001b[0m \u001b[0max2\u001b[0m\u001b[0;34m)\u001b[0m \u001b[0;34m=\u001b[0m \u001b[0mplt\u001b[0m\u001b[0;34m.\u001b[0m\u001b[0msubplots\u001b[0m\u001b[0;34m(\u001b[0m\u001b[0;36m1\u001b[0m\u001b[0;34m,\u001b[0m \u001b[0;36m2\u001b[0m\u001b[0;34m,\u001b[0m \u001b[0mfigsize\u001b[0m \u001b[0;34m=\u001b[0m \u001b[0mfig_sizes\u001b[0m\u001b[0;34m)\u001b[0m\u001b[0;34m\u001b[0m\u001b[0;34m\u001b[0m\u001b[0m\n",
      "\u001b[0;31mInternalError\u001b[0m: Error at /project/vendor/source/igraph/src/structural_properties.c:6084: Average nearest neighbor degree works only with simple graphs, Invalid value"
     ]
    }
   ],
   "source": [
    "# The global assortativity coefficient - we will need the undirected version of the graph from now on\n",
    "fb_GC_u.assortativity_degree()\n",
    "\n",
    "# The knn data. Two lists are returned\n",
    "# - the list of average degrees for each node (knn)\n",
    "# - the list of average degrees for each degree (knnk)\n",
    "fb_knn, fb_knnk = fb_GC_u.knn()\n",
    "\n",
    "fig, (ax1, ax2) = plt.subplots(1, 2, figsize = fig_sizes)\n",
    "ax1.loglog(fb_GC_u.degree(), fb_knn, 'go')\n",
    "ax1.set_xlabel(\"degree\")\n",
    "ax1.set_ylabel(\"Neighbors degree\")\n",
    "ax1.set_title(\"$knn$ index for the FB Giant Component\")\n",
    "\n",
    "ax2.loglog(range(1,max(fb_GC_u.degree())+1), fb_knnk, 'go')\n",
    "ax2.set_xlabel(\"degree\")\n",
    "ax2.set_ylabel(\"Average degree of neighbors\")\n",
    "ax2.set_title(\"$knnk$ index for the FB Giant Component\")"
   ]
  },
  {
   "cell_type": "code",
   "execution_count": 74,
   "metadata": {},
   "outputs": [
    {
     "data": {
      "text/plain": [
       "0.14772062102048877"
      ]
     },
     "execution_count": 74,
     "metadata": {},
     "output_type": "execute_result"
    },
    {
     "data": {
      "text/plain": [
       "0.22180739982867637"
      ]
     },
     "execution_count": 74,
     "metadata": {},
     "output_type": "execute_result"
    },
    {
     "ename": "InternalError",
     "evalue": "Error at /project/vendor/source/igraph/src/triangles.c:492: Transitivity works on simple graphs only, Invalid value",
     "output_type": "error",
     "traceback": [
      "\u001b[0;31m---------------------------------------------------------------------------\u001b[0m",
      "\u001b[0;31mInternalError\u001b[0m                             Traceback (most recent call last)",
      "\u001b[0;32m<ipython-input-74-2361b4e9ba7a>\u001b[0m in \u001b[0;36m<module>\u001b[0;34m\u001b[0m\n\u001b[1;32m      8\u001b[0m \u001b[0;34m\u001b[0m\u001b[0m\n\u001b[1;32m      9\u001b[0m \u001b[0;31m# local transitivity for all vertices\u001b[0m\u001b[0;34m\u001b[0m\u001b[0;34m\u001b[0m\u001b[0;34m\u001b[0m\u001b[0m\n\u001b[0;32m---> 10\u001b[0;31m \u001b[0mlocal_trans\u001b[0m \u001b[0;34m=\u001b[0m \u001b[0mfb_GC_u\u001b[0m\u001b[0;34m.\u001b[0m\u001b[0mtransitivity_local_undirected\u001b[0m\u001b[0;34m(\u001b[0m\u001b[0mmode\u001b[0m\u001b[0;34m=\u001b[0m\u001b[0;34m\"zero\"\u001b[0m\u001b[0;34m)\u001b[0m\u001b[0;34m\u001b[0m\u001b[0;34m\u001b[0m\u001b[0m\n\u001b[0m\u001b[1;32m     11\u001b[0m \u001b[0mlocal_trans\u001b[0m\u001b[0;34m[\u001b[0m\u001b[0;36m0\u001b[0m\u001b[0;34m:\u001b[0m\u001b[0;36m19\u001b[0m\u001b[0;34m]\u001b[0m\u001b[0;34m\u001b[0m\u001b[0;34m\u001b[0m\u001b[0m\n\u001b[1;32m     12\u001b[0m \u001b[0mmean\u001b[0m\u001b[0;34m(\u001b[0m\u001b[0mlocal_trans\u001b[0m\u001b[0;34m)\u001b[0m\u001b[0;34m\u001b[0m\u001b[0;34m\u001b[0m\u001b[0m\n",
      "\u001b[0;31mInternalError\u001b[0m: Error at /project/vendor/source/igraph/src/triangles.c:492: Transitivity works on simple graphs only, Invalid value"
     ]
    }
   ],
   "source": [
    "# global transitivity (C1)\n",
    "# as_undirected(), otherwise results would be wrong\n",
    "fb_GC_u.transitivity_undirected()\n",
    "\n",
    "# average local transitivity (C2)\n",
    "# mode = 0 means that nodes with less than two neighbours will have zero transitivity\n",
    "fb_GC_u.transitivity_avglocal_undirected(mode=\"zero\")\n",
    "\n",
    "# local transitivity for all vertices\n",
    "local_trans = fb_GC_u.transitivity_local_undirected(mode=\"zero\")\n",
    "local_trans[0:19]\n",
    "mean(local_trans)"
   ]
  },
  {
   "cell_type": "code",
   "execution_count": null,
   "metadata": {},
   "outputs": [],
   "source": []
  }
 ],
 "metadata": {
  "kernelspec": {
   "display_name": "Python 3",
   "language": "python",
   "name": "python3"
  },
  "language_info": {
   "codemirror_mode": {
    "name": "ipython",
    "version": 3
   },
   "file_extension": ".py",
   "mimetype": "text/x-python",
   "name": "python",
   "nbconvert_exporter": "python",
   "pygments_lexer": "ipython3",
   "version": "3.7.6"
  }
 },
 "nbformat": 4,
 "nbformat_minor": 4
}
