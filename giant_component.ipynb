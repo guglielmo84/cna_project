{
 "cells": [
  {
   "cell_type": "markdown",
   "metadata": {},
   "source": [
    "# Import useful stuff"
   ]
  },
  {
   "cell_type": "code",
   "execution_count": 71,
   "metadata": {},
   "outputs": [],
   "source": [
    "# interactive plots in Jupyter, used to show plots inline in the notebook\n",
    "%matplotlib inline\n",
    "\n",
    "# The igraph library\n",
    "from igraph import *\n",
    "\n",
    "# Numpy for enhanced math array management\n",
    "import numpy as np\n",
    "\n",
    "#Usata per calcolare il logaritmo\n",
    "from math import log\n",
    "\n",
    "# statistical tools (we only use ECDF)\n",
    "from statsmodels.distributions.empirical_distribution import ECDF\n",
    "\n",
    "# Mathematical plotting\n",
    "import matplotlib.pyplot as plt\n",
    "import matplotlib.gridspec as gridspec\n",
    "\n",
    "# use to control whether to show the entire cell output or only the last_expr (default)\n",
    "from IPython.core.interactiveshell import InteractiveShell\n",
    "InteractiveShell.ast_node_interactivity = \"all\"\n",
    "\n",
    "# to generate random numbers\n",
    "from random import *\n",
    "\n",
    "# to fit power law distributions\n",
    "from powerlaw import *"
   ]
  },
  {
   "cell_type": "markdown",
   "metadata": {},
   "source": [
    "# Parameters"
   ]
  },
  {
   "cell_type": "code",
   "execution_count": 72,
   "metadata": {},
   "outputs": [],
   "source": [
    "#Select the dataset\n",
    "dataset=\"./facebook.ncol\"\n",
    "#dataset=\"./node.ncol\"\n",
    "\n",
    "#Select if the dataset is directed or undirected\n",
    "#direct=True\n",
    "direct=False\n",
    "\n",
    "#Select if connection-mode is weak or or strong\n",
    "#This is the way to find Giant component\n",
    "conn_mode=\"WEAK\"\n",
    "#conn_mode=\"STRONG\""
   ]
  },
  {
   "cell_type": "markdown",
   "metadata": {},
   "source": [
    "# Creating and manipulating graphs\n",
    "## Reading graphs from files & data frames / Writing graphs to files"
   ]
  },
  {
   "cell_type": "code",
   "execution_count": 73,
   "metadata": {},
   "outputs": [
    {
     "name": "stdout",
     "output_type": "stream",
     "text": [
      "IGRAPH UNW- 45813 264004 -- \n",
      "+ attr: name (v), weight (e)\n",
      "+ edges (vertex names):\n",
      "         edge     weight\n",
      "[0]    2--3           13\n",
      "[1]    2--79           1\n",
      "[2]    2--872          1\n",
      "[3]    2--1043         1\n",
      "[4]    2--1847         8\n",
      "[5]    2--3306        11\n",
      "[6]    2--3372         3\n",
      "[7]    2--4605         1\n",
      "[8]    2--5402         4\n",
      "[9]    2--5875         4\n",
      "[10]   2--8785        16\n",
      "[11]   2--10609       25\n",
      "[12]   2--10998        1\n",
      "[13]   2--11186        5\n",
      "[14]   2--12172        3\n",
      "[15]   2--17766        1\n",
      "[16]   2--18086        6\n",
      "[17]   2--18745        1\n",
      "[18]   2--30579        5\n",
      "[19]   2--42558        1\n",
      "[20]   2--3            8\n",
      "[21]   5--27         163\n",
      "[22]   5--108          3\n",
      "[23]   5--129          2\n",
      "[24]   5--207          5\n"
     ]
    }
   ],
   "source": [
    "file_graph = read(dataset, format = \"ncol\", directed = direct)\n",
    "summary(file_graph, verbosity=1, max_rows = 25, edge_list_format = 'edgelist')"
   ]
  },
  {
   "cell_type": "markdown",
   "metadata": {
    "scrolled": true
   },
   "source": [
    "## Connected components, Giant Component & Subgraphs"
   ]
  },
  {
   "cell_type": "code",
   "execution_count": 74,
   "metadata": {},
   "outputs": [
    {
     "name": "stdout",
     "output_type": "stream",
     "text": [
      "The graph is NOT CONNECTED. It is necessary to find the Giant Component\n",
      "Number of clusters\n"
     ]
    },
    {
     "data": {
      "text/plain": [
       "842"
      ]
     },
     "execution_count": 74,
     "metadata": {},
     "output_type": "execute_result"
    },
    {
     "data": {
      "text/plain": [
       "[0, 0, 0, 0, 0, 0, 0, 0, 0, 0]"
      ]
     },
     "execution_count": 74,
     "metadata": {},
     "output_type": "execute_result"
    },
    {
     "name": "stdout",
     "output_type": "stream",
     "text": [
      "Clusters size:\n"
     ]
    },
    {
     "data": {
      "text/plain": [
       "[43953, 2, 3, 3, 2, 2, 2, 2, 2, 2]"
      ]
     },
     "execution_count": 74,
     "metadata": {},
     "output_type": "execute_result"
    },
    {
     "data": {
      "text/plain": [
       "45813"
      ]
     },
     "execution_count": 74,
     "metadata": {},
     "output_type": "execute_result"
    },
    {
     "data": {
      "text/plain": [
       "264004"
      ]
     },
     "execution_count": 74,
     "metadata": {},
     "output_type": "execute_result"
    },
    {
     "name": "stdout",
     "output_type": "stream",
     "text": [
      "Trashold is: 46.609887318718265\n",
      "Bigger Cluster: 43953\n",
      "GIANT COMPONENT EXIST!!!\n"
     ]
    },
    {
     "data": {
      "text/plain": [
       "43953"
      ]
     },
     "execution_count": 74,
     "metadata": {},
     "output_type": "execute_result"
    },
    {
     "data": {
      "text/plain": [
       "262631"
      ]
     },
     "execution_count": 74,
     "metadata": {},
     "output_type": "execute_result"
    },
    {
     "data": {
      "text/plain": [
       "842"
      ]
     },
     "execution_count": 74,
     "metadata": {},
     "output_type": "execute_result"
    },
    {
     "data": {
      "text/plain": [
       "[43953, 6, 5, 5, 5, 5, 5, 5, 5, 4, 4, 4, 4, 4, 4, 4, 4, 4, 4]"
      ]
     },
     "execution_count": 74,
     "metadata": {},
     "output_type": "execute_result"
    }
   ],
   "source": [
    "# Check whether the graph is connected or not\n",
    "if file_graph.is_connected(mode = \"STRONG\")==True:\n",
    "    print (\"The graph is STRONGLY CONNECTED. Nodes are mutally connected. All Graph is the Giant Component\")\n",
    "elif file_graph.is_connected(mode = \"WEAK\")==True:\n",
    "    print (\"The graph is WEAKLY CONNECTED. Nodes are connected. All Graph is the Giant Component\")\n",
    "else:\n",
    "    print (\"The graph is NOT CONNECTED. It is necessary to find the Giant Component\")    \n",
    "    # Compute the connected components in the graph\n",
    "    #   - \"WEAK\" does not consider the direction of edges\n",
    "    #All clusters\n",
    "    clusters_list = file_graph.clusters(mode = conn_mode)\n",
    "    # the number of clusters\n",
    "    print (\"Number of clusters\")\n",
    "    len(clusters_list)    \n",
    "    # the membership of vertices in the clusters. Every pos has the cluster_ID associated to the vertex\n",
    "    clusters_list.membership[0:10]\n",
    "    # the sizes of the clusters\n",
    "    print (\"Clusters size:\")\n",
    "    clusters_list.sizes()[0:10]\n",
    "\n",
    "    #Does Giant COmponent exist? \n",
    "    #GC esiste se contiene una frazione >> di nodi rispetto a logN (N =numero totale di nodi nel grafo), \n",
    "    #Gli altri componenti sono nell’ordine di logN\n",
    "    \n",
    "    \n",
    "    # number of vertices and edges in the original graph\n",
    "    file_graph.vcount()\n",
    "    file_graph.ecount()\n",
    "    \n",
    "    #Trashold\n",
    "    trashold=10*log(file_graph.vcount(),10)\n",
    "    print (\"Trashold is:\", T)\n",
    "    \n",
    "    \n",
    "    # sizes (sorted, first 20 elements)\n",
    "    sorted_clusters = sorted(clusters_list.sizes(), reverse=True)[0:19]\n",
    "    \n",
    "    #bigger_cluster=max(clusters_list.sizes())\n",
    "    print (\"Bigger Cluster:\", sorted_clusters[0])\n",
    "    print (\"2nd Bigger Cluster:\", sorted_clusters[1])\n",
    "    \n",
    "    if sorted_clusters[0] > trashold and sorted_clusters[1] < trashold:\n",
    "        print (\"GIANT COMPONENT EXIST!!!\")\n",
    "    \n",
    "        #Select the Giant Componet (the biggest cluster)\n",
    "        giant_component = clusters_list.giant()\n",
    "    \n",
    "        # number of vertices and edges in the original graph\n",
    "        giant_component.vcount() \n",
    "        giant_component.ecount()\n",
    "    \n",
    "        #From this time we consider GC as the only one cluster \n",
    "        file_graph=giant_component\n",
    "    else :\n",
    "        print (\"GIANT COMPONENT DOES NOT EXIST!!!\")\n",
    "        exit(0)\n",
    "\n",
    "\n",
    "    \n",
    "     \n",
    "\n",
    "    \n",
    "\n",
    "\n",
    "# number of clusters\n",
    "len(clusters_list)\n"
   ]
  },
  {
   "cell_type": "code",
   "execution_count": null,
   "metadata": {},
   "outputs": [],
   "source": []
  },
  {
   "cell_type": "code",
   "execution_count": null,
   "metadata": {},
   "outputs": [],
   "source": []
  },
  {
   "cell_type": "code",
   "execution_count": null,
   "metadata": {},
   "outputs": [],
   "source": []
  },
  {
   "cell_type": "markdown",
   "metadata": {},
   "source": []
  },
  {
   "cell_type": "code",
   "execution_count": null,
   "metadata": {},
   "outputs": [],
   "source": []
  },
  {
   "cell_type": "markdown",
   "metadata": {},
   "source": []
  },
  {
   "cell_type": "code",
   "execution_count": null,
   "metadata": {},
   "outputs": [],
   "source": []
  },
  {
   "cell_type": "code",
   "execution_count": 75,
   "metadata": {},
   "outputs": [
    {
     "name": "stdout",
     "output_type": "stream",
     "text": [
      "IGRAPH UNW- 43953 262631 -- \n",
      "+ attr: name (v), weight (e)\n",
      "+ edges (vertex names):\n",
      "         edge     weight\n",
      "[0]    2--3           13\n",
      "[1]    2--79           1\n",
      "[2]    2--872          1\n",
      "[3]    2--1043         1\n",
      "[4]    2--1847         8\n",
      "[5]    2--3306        11\n",
      "[6]    2--3372         3\n",
      "[7]    2--4605         1\n",
      "[8]    2--5402         4\n",
      "[9]    2--5875         4\n",
      "[10]   2--8785        16\n",
      "[11]   2--10609       25\n",
      "[12]   2--10998        1\n",
      "[13]   2--11186        5\n",
      "[14]   2--12172        3\n",
      "[15]   2--17766        1\n",
      "[16]   2--18086        6\n",
      "[17]   2--18745        1\n",
      "[18]   2--30579        5\n",
      "[19]   2--42558        1\n",
      "[20]   2--3            8\n",
      "[21]   5--27         163\n",
      "[22]   5--108          3\n",
      "[23]   5--129          2\n",
      "[24]   5--207          5\n"
     ]
    }
   ],
   "source": [
    "    summary(giant_component, verbosity = 1, max_rows = 25, edge_list_format = \"edgelist\")"
   ]
  }
 ],
 "metadata": {
  "kernelspec": {
   "display_name": "Python 3",
   "language": "python",
   "name": "python3"
  },
  "language_info": {
   "codemirror_mode": {
    "name": "ipython",
    "version": 3
   },
   "file_extension": ".py",
   "mimetype": "text/x-python",
   "name": "python",
   "nbconvert_exporter": "python",
   "pygments_lexer": "ipython3",
   "version": "3.7.6"
  }
 },
 "nbformat": 4,
 "nbformat_minor": 4
}
